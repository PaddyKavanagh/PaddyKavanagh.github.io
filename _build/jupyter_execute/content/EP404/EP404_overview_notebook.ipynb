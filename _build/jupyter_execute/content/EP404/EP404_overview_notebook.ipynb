{
 "cells": [
  {
   "attachments": {},
   "cell_type": "markdown",
   "id": "f2986855-ce0e-4da9-8c27-c99e92a434a2",
   "metadata": {},
   "source": [
    "![the mu logo](figures/logo.png)\n",
    "\n",
    "# EP404 - Statistics and Data Analysis: Course Overview\n",
    "\n",
    "**Paddy Kavanagh**  \n",
    "Dept. of Physics  \n",
    "Science Building, Room 2.12  \n",
    "Phone: 01 7084563  \n",
    "Email: patrick.kavanagh@mu.ie\n"
   ]
  },
  {
   "cell_type": "markdown",
   "id": "e125de40-f400-45e9-8512-2e0e274ef4f8",
   "metadata": {
    "jp-MarkdownHeadingCollapsed": true
   },
   "source": [
    "## Lectures\n",
    "Lectures will be in-person. There is a substantial code aspect to this course so we will make use of Jupyter notebooks which will act as your notes, lecture slides, and provide interactive code manipulation and execution.\n",
    "\n",
    "Notebooks, etc., will be made available as early as possible.\n",
    "\n",
    "Lectures are on:\n",
    "* Monday   12:00 PCT\n",
    "* Thursday 12:00 HG\n",
    "\n",
    "It is **strongly** recommended you attend the lectures\n"
   ]
  },
  {
   "cell_type": "markdown",
   "id": "1289bc98-1994-4c1c-80fc-b524a9f064a1",
   "metadata": {},
   "source": [
    "## Course Assessment\n",
    "\n",
    "The course will be assessed using the following combination of CA and exam:\n",
    "\n",
    "* 2 assignments, 5% each\n",
    "* Open-book class test, 30%\n",
    "* Exam (90 minutes), 60%\n",
    "\n",
    "If there are any issues, questions, etc., feel free to contact me. Always best to email me to arrange a time to meet.\n"
   ]
  },
  {
   "cell_type": "markdown",
   "id": "e0c79cb0-b012-4304-bb31-b7c0dca33dc3",
   "metadata": {},
   "source": [
    "## Course Content\n",
    "\n",
    "**Random variables and probability**\n",
    "* Random numbers\n",
    "* Monte Carlo Integration\n",
    "* Random Gaussian deviates\n",
    "* Mean and Standard Deviation; Error on the Mean\n",
    "* Standard Deviation and Probability\n",
    "\n",
    "**Error analysis**\n",
    "* Combining errors\n",
    "* The Principle of Maximum Likelihood\n",
    "* Least Squares Fitting\n",
    "* Distribution testing - the Chi-squared test\n",
    "\n",
    "**Probability distributions**\n",
    "* Generating artificial time sequences - Random time intervals\n",
    "* Distributions: Binomial, Poisson, Hypergeometric, Gaussian\n",
    "\n",
    "**Data analysis**\n",
    "* Periodic event times - Searching for Periodicities in data Spectral analysis of uniformly sampled data\n",
    "* Covariance and Correlation\n",
    "* Multivariate Data Analysis\n",
    "* Monte Carlo Simulation\n",
    "* Signal processing\n",
    "\n",
    "**Elements of advanced topics (optional)**\n",
    "* Adaptive Kernel Density Estimation Principal Components Analysis Genetic Algorithms\n",
    "* Artificial Intelligence: Neural Networks"
   ]
  },
  {
   "cell_type": "markdown",
   "id": "4d383d41-f3c9-4b34-a51f-cde05f7c38d4",
   "metadata": {},
   "source": [
    "## Suggested textbooks\n",
    "\n",
    "**Lyons L.** \\\n",
    "*A Practical Guide to Data Analysis for Physical Science Students*\n",
    "\n",
    "**Taylor J.R.** \\\n",
    "*An Introduction to Error Analysis*\n",
    "\n",
    "**Stewart J.M.** \\\n",
    "*Python for Scientists. (2nd Ed. 2017)*\n",
    "\n",
    "**Barlow R.** \\\n",
    "*Statistics a Guide and Reference to the Use of Statistical Methods in the Physical Sciences*\n",
    "\n",
    "**Berendsen H.** \\\n",
    "*A Students Guide to Data and Error Analysis*\n",
    "\n",
    "**Bohm G. and Zech G.** \\\n",
    "*Introduction to Statistics and Data Analysis for Physicists*\n",
    "\n",
    "**Kaloyerou P.** \\\n",
    "*Basic Concepts of Data and Error Analysis With Intro- ductions to Probability and Statistics and to Computer Methods*\n",
    "\n",
    "**Wasserman L.** \\\n",
    "*All of Statistics a Concise Course in Statistical Inference*"
   ]
  },
  {
   "cell_type": "markdown",
   "id": "01463c5d-64d4-4a43-b7c3-0d605ab267f2",
   "metadata": {},
   "source": [
    "## Purpose and Methodology\n",
    "\n",
    "In virtually all types of physical experiments, measurements are made and numbers are recorded, i.e. data is gathered. Frequently this data gathering process is automated by interfacing computers to a wide variety of transducers. We are concerned in this series of lectures with what should be done to the data once it is gathered. There are no simple, general prescriptions to data analysis - the type of analysis to be done will depend on the type of data measured, and the information required from the data.\n",
    "\n",
    "There are a number of standard procedures which are frequently used to characterize, or “reduce” often vast datasets to a few pertinent numbers. For example, the number of occasions in the Third Year Laboratory that you had to find the slope and its error of a best fit line to a series of experimental points (Hall Effect, Thermistor, Bangor Cp/Cv, Planck’s Constant, Fabry Perot, Light-to-Frequency Transducer, etc.). Least-squares fitting is one of the data analysis techniques that shall be discussed in this course.\n",
    "\n",
    "The best way to learn about data analysis is to analyze data. The general approach which will be applied to each topic we discuss will be as follows: \n",
    "* We shall, as briefly as possible, deal with the theory behind the analysis method, in many cases without full derivation\n",
    "* Then, implement the method in a Python program and test the program by applying it to some data.\n",
    "* In each case, the data will be simulated by using another Python program.\n",
    "\n",
    "Real data is subject to random errors. No matter how well you perform experimental measurements, the resulting data will exhibit some degree of scatter about the best-fit line. (There may also be systematic errors, due for example to an incorrectly calibrated equipment, we will not address systematic errors here.) For our simulated datasets to be realistic, we deliberately “add noise” to the simulated measurements so that they show the characteristic “scatter” of real data. To do this, we first address the issue of **random numbers**, which will be the topic of the next lecture."
   ]
  },
  {
   "cell_type": "code",
   "execution_count": null,
   "id": "dc0812f6-ea5f-465b-ad41-e8f9f489e51f",
   "metadata": {},
   "outputs": [],
   "source": []
  }
 ],
 "metadata": {
  "kernelspec": {
   "display_name": "Python 3 (ipykernel)",
   "language": "python",
   "name": "python3"
  },
  "language_info": {
   "codemirror_mode": {
    "name": "ipython",
    "version": 3
   },
   "file_extension": ".py",
   "mimetype": "text/x-python",
   "name": "python",
   "nbconvert_exporter": "python",
   "pygments_lexer": "ipython3",
   "version": "3.11.7"
  }
 },
 "nbformat": 4,
 "nbformat_minor": 5
}
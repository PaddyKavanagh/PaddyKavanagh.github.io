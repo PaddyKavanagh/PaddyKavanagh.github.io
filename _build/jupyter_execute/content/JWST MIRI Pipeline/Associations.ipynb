{
 "cells": [
  {
   "cell_type": "code",
   "execution_count": 7,
   "metadata": {},
   "outputs": [
    {
     "ename": "KeyError",
     "evalue": "'asn_name'",
     "output_type": "error",
     "traceback": [
      "\u001b[0;31m---------------------------------------------------------------------------\u001b[0m",
      "\u001b[0;31mKeyError\u001b[0m                                  Traceback (most recent call last)",
      "\u001b[0;32m<ipython-input-7-b80c95673a9a>\u001b[0m in \u001b[0;36m<module>\u001b[0;34m()\u001b[0m\n\u001b[1;32m     23\u001b[0m \u001b[0mname\u001b[0m\u001b[0;34m,\u001b[0m \u001b[0mser\u001b[0m \u001b[0;34m=\u001b[0m \u001b[0masn\u001b[0m\u001b[0;34m.\u001b[0m\u001b[0mdump\u001b[0m\u001b[0;34m(\u001b[0m\u001b[0;34m)\u001b[0m\u001b[0;34m\u001b[0m\u001b[0;34m\u001b[0m\u001b[0m\n\u001b[1;32m     24\u001b[0m \u001b[0;31m#print(ser)\u001b[0m\u001b[0;34m\u001b[0m\u001b[0;34m\u001b[0m\u001b[0;34m\u001b[0m\u001b[0m\n\u001b[0;32m---> 25\u001b[0;31m \u001b[0mprint\u001b[0m\u001b[0;34m(\u001b[0m\u001b[0masn\u001b[0m\u001b[0;34m.\u001b[0m\u001b[0mdata\u001b[0m\u001b[0;34m[\u001b[0m\u001b[0;34m'asn_name'\u001b[0m\u001b[0;34m]\u001b[0m\u001b[0;34m)\u001b[0m\u001b[0;34m\u001b[0m\u001b[0;34m\u001b[0m\u001b[0m\n\u001b[0m",
      "\u001b[0;31mKeyError\u001b[0m: 'asn_name'"
     ]
    }
   ],
   "source": [
    "import glob\n",
    "from jwst.associations.lib.member import Member\n",
    "from jwst.associations.asn_from_list import asn_from_list\n",
    "from jwst.associations.lib.rules_level2_base import DMSLevel2bBase\n",
    "\n",
    "my_science_files = glob.glob('IMA_science/*rate.fits')\n",
    "my_background_files = glob.glob('IMA_background/*rate.fits')\n",
    "\n",
    "asn = asn_from_list(my_science_files, rule=DMSLevel2bBase)\n",
    "asn.data['products'] = None\n",
    "\n",
    "for n, sci in enumerate(my_science_files):\n",
    "    \n",
    "    asn.new_product('my_galaxy_dither{}'.format(str(n+1)))\n",
    "    sci_member = Member({'expname': sci, 'exptype': 'science'})    \n",
    "    new_members = asn.current_product['members']\n",
    "    new_members.append(sci_member)\n",
    "    \n",
    "    for bkg in my_background_files:\n",
    "        bkg_member = Member({'expname': bkg, 'exptype': 'background'})\n",
    "        new_members.append(bkg_member)\n",
    "\n",
    "name, ser = asn.dump() \n",
    "#print(ser)\n",
    "print(asn.data['asn_name'])\n"
   ]
  },
  {
   "cell_type": "code",
   "execution_count": 1,
   "metadata": {},
   "outputs": [],
   "source": [
    "\n"
   ]
  },
  {
   "cell_type": "code",
   "execution_count": 2,
   "metadata": {},
   "outputs": [],
   "source": [
    "my_science_files = glob.glob('IMA_science/*rate.fits')\n",
    "my_background_files = glob.glob('IMA_background/*rate.fits')"
   ]
  },
  {
   "cell_type": "code",
   "execution_count": null,
   "metadata": {},
   "outputs": [],
   "source": []
  },
  {
   "cell_type": "code",
   "execution_count": 86,
   "metadata": {},
   "outputs": [],
   "source": [
    "from jwst.associations.asn_from_list import asn_from_list\n",
    "from jwst.associations.lib.rules_level2_base import DMSLevel2bBase\n",
    "\n",
    "level2_asn = asn_from_list(my_science_files, rule=DMSLevel2bBase)\n",
    "name, serialized = level2_asn.dump()\n",
    "\n",
    "with open('level2_asn.json', 'w') as f:\n",
    "    f.write(serialized)"
   ]
  },
  {
   "cell_type": "code",
   "execution_count": 88,
   "metadata": {},
   "outputs": [
    {
     "name": "stdout",
     "output_type": "stream",
     "text": [
      "{\n",
      "    \"asn_type\": \"None\",\n",
      "    \"asn_rule\": \"DMSLevel2bBase\",\n",
      "    \"version_id\": null,\n",
      "    \"code_version\": \"0.13.7\",\n",
      "    \"degraded_status\": \"No known degraded exposures in association.\",\n",
      "    \"program\": \"noprogram\",\n",
      "    \"products\": [\n",
      "        {\n",
      "            \"name\": \"IMA_science/det_image_seq2_MIRIMAGE_F1130Wexp1\",\n",
      "            \"members\": [\n",
      "                {\n",
      "                    \"expname\": \"IMA_science/det_image_seq2_MIRIMAGE_F1130Wexp1_rate.fits\",\n",
      "                    \"exptype\": \"science\"\n",
      "                }\n",
      "            ]\n",
      "        },\n",
      "        {\n",
      "            \"name\": \"IMA_science/det_image_seq1_MIRIMAGE_F1130Wexp1\",\n",
      "            \"members\": [\n",
      "                {\n",
      "                    \"expname\": \"IMA_science/det_image_seq1_MIRIMAGE_F1130Wexp1_rate.fits\",\n",
      "                    \"exptype\": \"science\"\n",
      "                }\n",
      "            ]\n",
      "        }\n",
      "    ]\n",
      "}\n"
     ]
    }
   ],
   "source": [
    "print(serialized)"
   ]
  },
  {
   "cell_type": "code",
   "execution_count": 98,
   "metadata": {},
   "outputs": [
    {
     "name": "stdout",
     "output_type": "stream",
     "text": [
      "<class 'jwst.associations.lib.rules_level2_base.DMSLevel2bBase'>\n",
      "ss\n",
      "ss\n",
      "Association jwnoprogram-o999_ss_019_asn\n",
      "    Parameters:        Product type: indetermined        Rule:         indetermined        Program:      indetermined        Target:       indetermined        Pool:         indetermined\n",
      "        \n",
      "\tIMA_science/det_image_seq2_MIRIMAGE_F1130Wexp1 with 1 members\n",
      "\tIMA_science/det_image_seq1_MIRIMAGE_F1130Wexp1 with 1 members\n",
      "\tIMA_background/det_image_seq1_MIRIMAGE_F1130Wexp1 with 1 members\n",
      "\tIMA_background/det_image_seq1_MIRIMAGE_F1130Wexp1 with 1 members\n",
      "\tIMA_background/det_image_seq1_MIRIMAGE_F1130Wexp1 with 1 members\n",
      "\n",
      "\n",
      "{\n",
      "    \"asn_type\": \"None\",\n",
      "    \"asn_rule\": \"DMSLevel2bBase\",\n",
      "    \"version_id\": null,\n",
      "    \"code_version\": \"0.13.7\",\n",
      "    \"degraded_status\": \"No known degraded exposures in association.\",\n",
      "    \"program\": \"noprogram\",\n",
      "    \"products\": [\n",
      "        {\n",
      "            \"name\": \"IMA_science/det_image_seq2_MIRIMAGE_F1130Wexp1\",\n",
      "            \"members\": [\n",
      "                {\n",
      "                    \"expname\": \"IMA_science/det_image_seq2_MIRIMAGE_F1130Wexp1_rate.fits\",\n",
      "                    \"exptype\": \"science\"\n",
      "                }\n",
      "            ]\n",
      "        },\n",
      "        {\n",
      "            \"name\": \"IMA_science/det_image_seq1_MIRIMAGE_F1130Wexp1\",\n",
      "            \"members\": [\n",
      "                {\n",
      "                    \"expname\": \"IMA_science/det_image_seq1_MIRIMAGE_F1130Wexp1_rate.fits\",\n",
      "                    \"exptype\": \"science\"\n",
      "                }\n",
      "            ]\n",
      "        }\n",
      "    ]\n",
      "}\n"
     ]
    }
   ],
   "source": [
    "print(type(level2_asn))\n",
    "print(level2_asn['asn_type'])\n",
    "\n",
    "level2_asn['asn_type'] = 'ss'\n",
    "\n",
    "print(level2_asn['asn_type'])\n",
    "\n",
    "level2_asn._add_items(my_background_files)\n",
    "print(level2_asn)\n",
    "\n",
    "print(serialized)"
   ]
  },
  {
   "cell_type": "code",
   "execution_count": 104,
   "metadata": {},
   "outputs": [
    {
     "name": "stdout",
     "output_type": "stream",
     "text": [
      "{'expname': 'IMA_science/det_image_seq2_MIRIMAGE_F1130Wexp1_rate.fits', 'exptype': 'science'}\n",
      "{'expname': 'IMA_science/det_image_seq1_MIRIMAGE_F1130Wexp1_rate.fits', 'exptype': 'science'}\n",
      "{'expname': 'IMA_background/det_image_seq1_MIRIMAGE_F1130Wexp1.fits', 'exptype': 'science'}\n",
      "{'expname': 'IMA_background/det_image_seq1_MIRIMAGE_F1130Wexp1.fits', 'exptype': 'science'}\n",
      "{'expname': 'IMA_background/det_image_seq1_MIRIMAGE_F1130Wexp1.fits', 'exptype': 'science'}\n"
     ]
    }
   ],
   "source": [
    "for product in level2_asn['products']:\n",
    "    members = product['members']\n",
    "    \n",
    "    for member in members:\n",
    "        #back = Member()\n",
    "        #member.append(my_background_files)\n",
    "        print(member)"
   ]
  },
  {
   "cell_type": "code",
   "execution_count": null,
   "metadata": {},
   "outputs": [],
   "source": [
    "for product in self['products']:\n",
    "    members = product['members']\n",
    "\n",
    "    # Split out the science vs. non-science\n",
    "    # The non-science exposures will get attached\n",
    "    # to every resulting association.\n",
    "    science_exps = [\n",
    "        member\n",
    "        for member in members\n",
    "        if member['exptype'] == 'science'\n",
    "    ]\n",
    "    nonscience_exps = [\n",
    "        member\n",
    "        for member in members\n",
    "        if member['exptype'] != 'science'\n",
    "]\n",
    "    \n",
    "    \n",
    "# Create new associations for each science, using\n",
    "# the other science as background.\n",
    "results = []\n",
    "for science_exp in science_exps:\n",
    "    asn = copy.deepcopy(self)\n",
    "    asn.data['products'] = None\n",
    "\n",
    "    product_name = remove_suffix(\n",
    "        splitext(split(science_exp['expname'])[1])[0]\n",
    "    )[0]\n",
    "    asn.new_product(product_name)\n",
    "    new_members = asn.current_product['members']\n",
    "    new_members.append(science_exp)\n",
    "\n",
    "    for other_science in science_exps:\n",
    "        if other_science['expname'] != science_exp['expname']:\n",
    "            now_background = Member(other_science)\n",
    "            now_background['exptype'] = 'background'\n",
    "            new_members.append(now_background)\n",
    "\n",
    "    new_members += nonscience_exps\n",
    "\n",
    "    if asn.is_valid:\n",
    "        results.append(asn)\n",
    "\n",
    "return results"
   ]
  }
 ],
 "metadata": {
  "kernelspec": {
   "display_name": "Python 3",
   "language": "python",
   "name": "python3"
  },
  "language_info": {
   "codemirror_mode": {
    "name": "ipython",
    "version": 3
   },
   "file_extension": ".py",
   "mimetype": "text/x-python",
   "name": "python",
   "nbconvert_exporter": "python",
   "pygments_lexer": "ipython3",
   "version": "3.6.8"
  }
 },
 "nbformat": 4,
 "nbformat_minor": 2
}
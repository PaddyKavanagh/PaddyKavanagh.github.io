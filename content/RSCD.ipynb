{
 "cells": [
  {
   "cell_type": "markdown",
   "metadata": {},
   "source": [
    "## `rscd` step\n",
    "\n",
    "For MIRI multiple integration data, the reset switch decay causes the the initial groups in integrations after the first one to be offset from their expected linear accumulation of signal. The most significant deviations occur in groups 1 and 2. This step corrects for these effects.\n",
    "\n",
    "Official documentation for `rscd` can be found here:\n",
    "\n",
    "<https://jwst-pipeline.readthedocs.io/en/latest/jwst/rscd/index.html>\n"
   ]
  },
  {
   "cell_type": "markdown",
   "metadata": {},
   "source": [
    "### Input data\n",
    "\n",
    "An example of running the `rscd` step is now shown using a simple simulated observation of a galaxy with the MIRI Imager (F1130W filter) produced with [MIRISim v2.1](http://miri.ster.kuleuven.be/bin/view/Public/MIRISimPublicRelease2dot1), with precending pipeline steps applied, i.e. `linearity` output."
   ]
  },
  {
   "cell_type": "markdown",
   "metadata": {},
   "source": [
    "### Python\n",
    "\n",
    "Start by importing what will be used and set the `CRDS_CONTEXT`"
   ]
  },
  {
   "cell_type": "code",
   "execution_count": 1,
   "metadata": {},
   "outputs": [],
   "source": [
    "# imports\n",
    "import os, glob, shutil\n",
    "import numpy as np\n",
    "from matplotlib.colors import LogNorm\n",
    "import matplotlib.pyplot as plt\n",
    "from jwst import datamodels\n",
    "\n",
    "# set the CRDS_CONTEXT\n",
    "os.environ[\"CRDS_CONTEXT\"] = \"jwst_0535.pmap\""
   ]
  },
  {
   "cell_type": "markdown",
   "metadata": {},
   "source": [
    "Import `rscd` and print the docstring and spec to show some information"
   ]
  },
  {
   "cell_type": "code",
   "execution_count": 2,
   "metadata": {},
   "outputs": [
    {
     "name": "stdout",
     "output_type": "stream",
     "text": [
      "\n",
      "    RSCD_Step: Performs an RSCD correction to MIRI data by adding a function\n",
      "    of time, frame by frame, to a copy of the input science data model.\n",
      "    \n",
      "\n",
      "    pre_hooks          = string_list(default=list())\n",
      "    post_hooks         = string_list(default=list())\n",
      "    output_file        = output_file(default=None)   # File to save output to.\n",
      "    output_dir         = string(default=None)        # Directory path for output files\n",
      "    output_ext         = string(default='.fits')     # Default type of output\n",
      "    output_use_model   = boolean(default=False)      # When saving use `DataModel.meta.filename`\n",
      "    output_use_index   = boolean(default=True)       # Append index.\n",
      "    save_results       = boolean(default=False)      # Force save results\n",
      "    skip               = boolean(default=False)      # Skip this step\n",
      "    suffix             = string(default=None)        # Default suffix for output files\n",
      "    search_output_file = boolean(default=True)       # Use outputfile define in parent step\n",
      "    input_dir          = string(default=None)        # Input directory\n",
      "    \n"
     ]
    }
   ],
   "source": [
    "# import the step\n",
    "from jwst.rscd import rscd_step\n",
    "\n",
    "# print the description and options\n",
    "print(rscd_step.RSCD_Step.__doc__)\n",
    "print(rscd_step.RSCD_Step.spec)\n"
   ]
  },
  {
   "cell_type": "markdown",
   "metadata": {},
   "source": [
    "Set the name of the input file and run the step. This will produce an output file ending with `_rscd_step.fits`\n",
    "\n",
    "*Parameters used:*\n",
    "\n",
    "`output_use_model` : boolean, optional, default=False  \n",
    "&nbsp;&nbsp;&nbsp;&nbsp; propagate the input filename to the output\n",
    "    \n",
    "`save_results`: boolean, optional, default=False  \n",
    "&nbsp;&nbsp;&nbsp;&nbsp; save the results to file\n",
    "\n",
    "Note that the `rscd` will return the output datamodel so we set this to the `dm` variable.\n"
   ]
  },
  {
   "cell_type": "code",
   "execution_count": 3,
   "metadata": {},
   "outputs": [
    {
     "name": "stderr",
     "output_type": "stream",
     "text": [
      "2019-07-04 13:00:46,230 - stpipe.RSCD_Step - INFO - RSCD_Step instance created.\n",
      "2019-07-04 13:00:46,305 - stpipe.RSCD_Step - INFO - Step RSCD_Step running with args ('det_image_seq1_MIRIMAGE_F1130Wexp1_linearitystep.fits',).\n",
      "2019-07-04 13:00:47,630 - stpipe.RSCD_Step - INFO - Using RSCD reference file /Users/patrickkavanagh/crds_mirror/references/jwst/miri/jwst_miri_rscd_0009.fits\n",
      "2019-07-04 13:00:49,728 - stpipe.RSCD_Step - INFO - Saved model in det_image_seq1_MIRIMAGE_F1130Wexp1_rscd_step.fits\n",
      "2019-07-04 13:00:49,729 - stpipe.RSCD_Step - INFO - Step RSCD_Step done\n"
     ]
    }
   ],
   "source": [
    "# user specified\n",
    "my_input_file = 'det_image_seq1_MIRIMAGE_F1130Wexp1_linearitystep.fits'\n",
    "\n",
    "# run the step\n",
    "dm = rscd_step.RSCD_Step.call(my_input_file, output_use_model=True, save_results=True)\n"
   ]
  },
  {
   "cell_type": "markdown",
   "metadata": {},
   "source": [
    "Since `rscd` only applies a correction to integrations >1, we can check one of these to see the correction. If there is only one integration, then `rscd` doesn't do anything."
   ]
  },
  {
   "cell_type": "code",
   "execution_count": 4,
   "metadata": {},
   "outputs": [
    {
     "name": "stdout",
     "output_type": "stream",
     "text": [
      "RSCD step only operates on exposures with more than one integration.\n"
     ]
    }
   ],
   "source": [
    "# set the sample pixel\n",
    "pixel = [600,500]\n",
    "\n",
    "# define group numbers for integration ramps\n",
    "group = range(1,dm.data[0,:,pixel[0],pixel[1]].shape[0]+1,1)\n",
    "\n",
    "# open the input file as a datamodel\n",
    "in_dm = datamodels.open(my_input_file)\n",
    "\n",
    "# first check that there is more than one integration\n",
    "if dm.data.shape[0] > 1:\n",
    "\n",
    "    # plot\n",
    "    fig, axs = plt.subplots(2, 1, figsize=(10, 8), sharex=True)\n",
    "\n",
    "    # plot input and output ramps of the second integration\n",
    "    axs[0].plot(group, in_dm.data[-1,:,pixel[1],pixel[0]], c='r', marker='^', markersize=6, \n",
    "                linestyle='-', linewidth=2, label='input ramp')\n",
    "    axs[0].plot(group, dm.data[-1,:,pixel[1],pixel[0]], c='b', marker='o', linestyle='-', \n",
    "                linewidth=2, label='RSCD calibrated ramp')\n",
    "    axs[0].set_title('RSCD correction',fontsize=15)\n",
    "    axs[0].set_ylabel('DN',fontsize=15)\n",
    "    axs[0].set_xlim(-1,max(group)+1)\n",
    "    axs[0].legend(prop={'size':12}, loc=0)\n",
    "\n",
    "    # plot ratio between the two\n",
    "    axs[1].plot(group, in_dm.data[-1,:,pixel[1],pixel[0]] / dm.data[-1,:,pixel[1],pixel[0]], c='g', \n",
    "                marker='s', markersize=6, linestyle='-', linewidth=2, label='ratio')\n",
    "    axs[1].set_ylabel('DN',fontsize=15)\n",
    "    axs[1].set_xlabel('group',fontsize=15)\n",
    "    axs[1].legend(prop={'size':12}, loc=0)\n",
    "\n",
    "    plt.tight_layout(h_pad=0)\n",
    "    plt.show()\n",
    "\n",
    "else: \n",
    "    print(\"RSCD step only operates on exposures with more than one integration.\")\n",
    "\n"
   ]
  },
  {
   "cell_type": "markdown",
   "metadata": {},
   "source": [
    "### Command line\n",
    "\n",
    "To achieve the same result from the command line there are a couple of options. \n",
    "\n",
    "**Option 1:**\n",
    "Run the `RSCD_Step` class using the `strun` command:\n",
    "\n",
    "```bash\n",
    "strun jwst.rscd.RSCD_Step det_image_seq1_MIRIMAGE_F1130Wexp1_linearitystep.fits\n",
    "```\n",
    "\n",
    "**Option 2:**\n",
    "If they don't already exist, collect the pipeline configuration files in your working directory using `collect_pipeline_configs` and then run the `RSCD_Step` using the `strun` command with the associated `rscd.cfg` file. \n",
    "\n",
    "```bash\n",
    "collect_pipeline_cfgs cfgs/\n",
    "\n",
    "strun cfgs/rscd.cfg det_image_seq1_MIRIMAGE_F1130Wexp1_linearitystep.fits\n",
    "```\n",
    "\n",
    "This will produce the same output file ending with `_rscd_step.fits` \n"
   ]
  },
  {
   "cell_type": "markdown",
   "metadata": {},
   "source": [
    "A full list of the command line options are given by running the following:\n",
    "\n",
    "```bash\n",
    "strun jwst.rscd.RSCD_Step -h\n",
    "```\n",
    "\n",
    "or \n",
    "\n",
    "```bash\n",
    "strun cfgs/rscd.cfg -h\n",
    "```\n"
   ]
  },
  {
   "cell_type": "markdown",
   "metadata": {},
   "source": [
    "### Override reference file\n",
    "\n",
    "To override the reference file for this step in Python:"
   ]
  },
  {
   "cell_type": "markdown",
   "metadata": {},
   "source": [
    "```python\n",
    "# set the override reference file name\n",
    "my_ref = 'my_rscd.fits'\n",
    "\n",
    "dm = rscd.RSCD_Step.call(my_input_file, output_use_model=True, save_results=True, \n",
    "                         override_rscd=my_ref)\n",
    "```"
   ]
  },
  {
   "cell_type": "markdown",
   "metadata": {},
   "source": [
    "and using the command line:\n",
    "\n",
    "```bash\n",
    "strun jwst.rscd.RSCD_Step det_image_seq1_MIRIMAGE_F1130Wexp1_linearitystep.fits  --override_rscd my_rscd.fits\n",
    "```\n",
    "\n",
    "or\n",
    "\n",
    "```bash\n",
    "strun cfgs/rscd.cfg det_image_seq1_MIRIMAGE_F1130Wexp1_linearitystep.fits --override_rscd my_rscd.fits\n",
    "```"
   ]
  }
 ],
 "metadata": {
  "kernelspec": {
   "display_name": "Python 3",
   "language": "python",
   "name": "python3"
  },
  "language_info": {
   "codemirror_mode": {
    "name": "ipython",
    "version": 3
   },
   "file_extension": ".py",
   "mimetype": "text/x-python",
   "name": "python",
   "nbconvert_exporter": "python",
   "pygments_lexer": "ipython3",
   "version": "3.6.8"
  }
 },
 "nbformat": 4,
 "nbformat_minor": 2
}

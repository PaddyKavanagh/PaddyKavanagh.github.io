{
 "cells": [
  {
   "cell_type": "markdown",
   "metadata": {},
   "source": [
    "## `lastframe` step\n",
    "\n",
    "This step flags the final group as bad if the number of groups is greater than 3. No correction or flagging is done otherwise.\n",
    "\n",
    "Official documentation for `lastframe` can be found here:\n",
    "\n",
    "<https://jwst-pipeline.readthedocs.io/en/latest/jwst/lastframe/index.html>\n"
   ]
  },
  {
   "cell_type": "markdown",
   "metadata": {},
   "source": [
    "### Input data\n",
    "\n",
    "An example of running the `lastframe` step is now shown using a simple simulated observation of a galaxy with the MIRI Imager (F1130W filter) produced with [MIRISim v2.1](http://miri.ster.kuleuven.be/bin/view/Public/MIRISimPublicRelease2dot1), with precending pipeline steps applied, i.e. `firstframe` output."
   ]
  },
  {
   "cell_type": "markdown",
   "metadata": {},
   "source": [
    "### Python\n",
    "\n",
    "Start by importing what will be used and set the `CRDS_CONTEXT`"
   ]
  },
  {
   "cell_type": "code",
   "execution_count": 1,
   "metadata": {},
   "outputs": [],
   "source": [
    "# imports\n",
    "import os, glob, shutil\n",
    "import numpy as np\n",
    "from matplotlib.colors import LogNorm\n",
    "import matplotlib.pyplot as plt\n",
    "from jwst import datamodels\n",
    "\n",
    "# set the CRDS_CONTEXT\n",
    "os.environ[\"CRDS_CONTEXT\"] = \"jwst_0535.pmap\""
   ]
  },
  {
   "cell_type": "markdown",
   "metadata": {},
   "source": [
    "Import `lastframe` and print the docstring and spec to show some information"
   ]
  },
  {
   "cell_type": "code",
   "execution_count": 2,
   "metadata": {},
   "outputs": [
    {
     "name": "stdout",
     "output_type": "stream",
     "text": [
      "\n",
      "    LastFrameStep: This is a MIRI specific task.  If the number of groups\n",
      "    is greater than 2, the GROUP data quality flags for the final group will\n",
      "    be set to DO_NOT_USE.\n",
      "    \n",
      "\n",
      "    pre_hooks          = string_list(default=list())\n",
      "    post_hooks         = string_list(default=list())\n",
      "    output_file        = output_file(default=None)   # File to save output to.\n",
      "    output_dir         = string(default=None)        # Directory path for output files\n",
      "    output_ext         = string(default='.fits')     # Default type of output\n",
      "    output_use_model   = boolean(default=False)      # When saving use `DataModel.meta.filename`\n",
      "    output_use_index   = boolean(default=True)       # Append index.\n",
      "    save_results       = boolean(default=False)      # Force save results\n",
      "    skip               = boolean(default=False)      # Skip this step\n",
      "    suffix             = string(default=None)        # Default suffix for output files\n",
      "    search_output_file = boolean(default=True)       # Use outputfile define in parent step\n",
      "    input_dir          = string(default=None)        # Input directory\n",
      "    \n"
     ]
    }
   ],
   "source": [
    "#import the step\n",
    "from jwst.lastframe import lastframe_step\n",
    "\n",
    "# print the description and options\n",
    "print(lastframe_step.LastFrameStep.__doc__)\n",
    "print(lastframe_step.LastFrameStep.spec)"
   ]
  },
  {
   "cell_type": "markdown",
   "metadata": {},
   "source": [
    "Set the name of the input file and run the step. This will produce an output file ending with `_lastframestep.fits`\n",
    "\n",
    "*Parameters used:*\n",
    "\n",
    "`output_use_model` : boolean, optional, default=False  \n",
    "&nbsp;&nbsp;&nbsp;&nbsp; propagate the input filename to the output\n",
    "    \n",
    "`save_results`: boolean, optional, default=False  \n",
    "&nbsp;&nbsp;&nbsp;&nbsp; save the results to file\n",
    "\n",
    "Note that the `firstframe` will return the output datamodel so we set this to the `dm` variable.\n"
   ]
  },
  {
   "cell_type": "code",
   "execution_count": 3,
   "metadata": {},
   "outputs": [
    {
     "name": "stderr",
     "output_type": "stream",
     "text": [
      "2019-07-04 11:54:09,252 - stpipe.LastFrameStep - INFO - LastFrameStep instance created.\n",
      "2019-07-04 11:54:09,306 - stpipe.LastFrameStep - INFO - Step LastFrameStep running with args ('det_image_seq1_MIRIMAGE_F1130Wexp1_firstframestep.fits',).\n",
      "2019-07-04 11:54:11,277 - stpipe.LastFrameStep - INFO - Saved model in det_image_seq1_MIRIMAGE_F1130Wexp1_lastframestep.fits\n",
      "2019-07-04 11:54:11,278 - stpipe.LastFrameStep - INFO - Step LastFrameStep done\n"
     ]
    }
   ],
   "source": [
    "# user specified\n",
    "my_input_file = 'det_image_seq1_MIRIMAGE_F1130Wexp1_firstframestep.fits'\n",
    "\n",
    "# run the step\n",
    "dm = lastframe_step.LastFrameStep.call(my_input_file, output_use_model=True, save_results=True)\n"
   ]
  },
  {
   "cell_type": "markdown",
   "metadata": {},
   "source": [
    "We can plot the GROUPDQ last frame image and the GROUPDQ 1D array for a sample pixel to check the step has flagged the last frame in the ramps with a value of 1"
   ]
  },
  {
   "cell_type": "code",
   "execution_count": 4,
   "metadata": {},
   "outputs": [
    {
     "data": {
      "image/png": "[encoded data removed]",
      "text/plain": [
       "<Figure size 864x360 with 2 Axes>"
      ]
     },
     "metadata": {
      "needs_background": "light"
     },
     "output_type": "display_data"
    }
   ],
   "source": [
    "# set the sample pixel\n",
    "pixel = [688,511]\n",
    "\n",
    "# define group numbers for integration ramps\n",
    "group = range(1,dm.data[0,:,pixel[0],pixel[1]].shape[0]+1,1)\n",
    "\n",
    "# plot\n",
    "fig, axs = plt.subplots(1, 2, figsize=(12, 5))\n",
    "\n",
    "# plot the first frame of the first integration of the GROUPDQ extension\n",
    "axs[0].imshow(dm.groupdq[0][-1], cmap='jet', interpolation='nearest', origin='lower')\n",
    "axs[0].annotate('first frame of GROUPDQ', xy=(0.0, 1.02), xycoords='axes fraction', \n",
    "                fontsize=12, fontweight='bold', color='k')\n",
    "\n",
    "# determine the values in this GROUPDQ frame\n",
    "flag_values = np.unique(dm.groupdq[0][-1])\n",
    "axs[0].annotate('Flag values in last frame: %s' % flag_values, xy=(0.05, 0.92), \n",
    "                xycoords='axes fraction', fontsize=12, fontweight='bold', color='w')\n",
    "\n",
    "# input and output ramps (setting a slight offset for the output ramp)\n",
    "axs[1].plot(group, dm.groupdq[-1,:,pixel[1],pixel[0]], c='b', marker='o', linestyle='-', \n",
    "            linewidth=2, label='lastframe flagged')\n",
    "\n",
    "axs[1].set_ylabel('flag values',fontsize=15)\n",
    "axs[1].set_xlim(-1,max(group)+1)\n",
    "axs[1].set_ylim(-0.5,1.5)\n",
    "axs[1].legend(prop={'size':12}, loc=2)\n",
    "\n",
    "plt.tight_layout(h_pad=0)\n",
    "plt.show()"
   ]
  },
  {
   "cell_type": "markdown",
   "metadata": {},
   "source": [
    "### Command line\n",
    "\n",
    "To achieve the same result from the command line there are a couple of options. \n",
    "\n",
    "**Option 1:**\n",
    "Run the `LastFrameStep` class using the `strun` command:\n",
    "\n",
    "```bash\n",
    "strun jwst.lastframe.LastFrameStep det_image_seq1_MIRIMAGE_F1130Wexp1_firststep.fits\n",
    "```\n",
    "\n",
    "**Option 2:**\n",
    "If they don't already exist, collect the pipeline configuration files in your working directory using `collect_pipeline_configs` and then run the `LastFrameStep` using the `strun` command with the associated `lastframe.cfg` file. \n",
    "\n",
    "```bash\n",
    "collect_pipeline_cfgs cfgs/\n",
    "\n",
    "strun cfgs/lastframe.cfg det_image_seq1_MIRIMAGE_F1130Wexp1_firstframestep.fits\n",
    "```\n",
    "\n",
    "This will produce the same output file ending with `_lastframestep.fits` \n"
   ]
  },
  {
   "cell_type": "markdown",
   "metadata": {},
   "source": [
    "A full list of the command line options are given by running the following:\n",
    "\n",
    "```bash\n",
    "strun jwst.lastframe.LastFrameStep -h\n",
    "```\n",
    "\n",
    "or \n",
    "\n",
    "```bash\n",
    "strun cfgs/lastframe.cfg -h\n",
    "```\n"
   ]
  },
  {
   "cell_type": "markdown",
   "metadata": {},
   "source": [
    "### Override reference file\n",
    "\n",
    "There is currently no reference file for the lastframe step."
   ]
  }
 ],
 "metadata": {
  "kernelspec": {
   "display_name": "Python 3",
   "language": "python",
   "name": "python3"
  },
  "language_info": {
   "codemirror_mode": {
    "name": "ipython",
    "version": 3
   },
   "file_extension": ".py",
   "mimetype": "text/x-python",
   "name": "python",
   "nbconvert_exporter": "python",
   "pygments_lexer": "ipython3",
   "version": "3.6.8"
  }
 },
 "nbformat": 4,
 "nbformat_minor": 2
}

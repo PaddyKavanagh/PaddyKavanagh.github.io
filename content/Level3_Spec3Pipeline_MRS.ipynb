{
 "cells": [
  {
   "cell_type": "markdown",
   "metadata": {},
   "source": [
    "## Spec3Pipeline for MRS   (MIRI MRS CALSPEC3)\n",
    "\n",
    "`Spec3Pipeline` combines the calibrated data from multiple exposures (e.g. a dither/nod pattern) into a single combined 3D spectral product and a combined 1D spectrum. Before being combined, the exposures receive additional corrections for the purpose of background matching and subtraction, as well as outlier rejection.\n",
    "\n",
    "Official documentation for `Spec3Pipeline` can be found here:\n",
    "\n",
    "<https://jwst-pipeline.readthedocs.io/en/latest/jwst/pipeline/calwebb_spec3.html>\n",
    "\n",
    "The `Spec3Pipeline` for MRS comprises a linear series of steps. The steps in order are:\n",
    "\n",
    "|Step|Description|\n",
    "|:---|:---|\n",
    "|`master_background`|subtract master background spectrum created from input exposures or supplied by user|\n",
    "|`mrs_imatch`|matches image intensities of input MIRI MRS images|\n",
    "|`outlier_detection`|flag any remaining cosmic-rays or other artifacts left over from previous calibrations|\n",
    "|`cube_build`|produce 3D spectral cubes from the 'cleaned' 2D detector image|\n",
    "|`extract_1d`|extract 1D spectrum from 3D cube|\n",
    "\n",
    "\n",
    "For more information and examples of each of the steps click on the links in the side bar. \n",
    "\n",
    "Note that the `master_background` step would normally be run if no background subtraction happened in Spec2Pipeline. However, we will skip the step in this example.\n",
    "\n",
    "Users of this notebook should be aware that cubes produced will not be perfect and suffer from known issues with MIRISim (oversized MRS PSF, channel 4 flux issues, etc.). Also, the spectral extraction step in the pipeline (extract_1d) does not yet correctly implement the aperture correction factors so the fluxes will be off."
   ]
  },
  {
   "cell_type": "markdown",
   "metadata": {},
   "source": [
    "### Input data\n",
    "\n",
    "An example of running the file through the `Spec3Pipeline` is now shown using a simple simulated fullband, 2-point dither observation of a point source (power law plus emission lines spectrum) with the MIRI MRS produced with [MIRISim v2.3](https://wiki.miricle.org/Public/MIRISim_Public) and brought to level 2B using the `Detector1Pipeline` and `Spec2Pipeline` modules. "
   ]
  },
  {
   "cell_type": "markdown",
   "metadata": {},
   "source": [
    "### Python\n",
    "\n",
    "Start by importing what will be used and set the `CRDS_CONTEXT`"
   ]
  },
  {
   "cell_type": "code",
   "execution_count": 1,
   "metadata": {},
   "outputs": [],
   "source": [
    "# imports\n",
    "import os, glob, shutil\n",
    "import numpy as np\n",
    "from matplotlib.colors import LogNorm\n",
    "from cycler import cycler\n",
    "import matplotlib.pyplot as plt\n",
    "from subprocess import call\n",
    "from jwst import datamodels\n",
    "from jwst.associations.lib.member import Member\n",
    "from jwst.associations.asn_from_list import asn_from_list\n",
    "\n",
    "# set the CRDS_CONTEXT\n",
    "os.environ[\"CRDS_CONTEXT\"] = \"jwst_0641.pmap\""
   ]
  },
  {
   "cell_type": "markdown",
   "metadata": {},
   "source": [
    "`Image3Pipeline` requires an association file as input that lists the exposures to be combined. The content of the association file is printed for inspection. It is assumed they are in 'MRS_science'."
   ]
  },
  {
   "cell_type": "code",
   "execution_count": 2,
   "metadata": {
    "scrolled": false
   },
   "outputs": [
    {
     "name": "stdout",
     "output_type": "stream",
     "text": [
      "{\n",
      "    \"asn_type\": \"spec3\",\n",
      "    \"asn_rule\": \"DMS_Level3_Base\",\n",
      "    \"version_id\": null,\n",
      "    \"code_version\": \"0.17.1\",\n",
      "    \"degraded_status\": \"No known degraded exposures in association.\",\n",
      "    \"program\": \"noprogram\",\n",
      "    \"constraints\": \"No constraints\",\n",
      "    \"asn_id\": \"a3001\",\n",
      "    \"target\": \"none\",\n",
      "    \"asn_pool\": \"my_point_source_pool\",\n",
      "    \"products\": [\n",
      "        {\n",
      "            \"name\": \"my_point_source\",\n",
      "            \"members\": [\n",
      "                {\n",
      "                    \"expname\": \"MRS_science/my_point_source_exposure10_cal.fits\",\n",
      "                    \"exptype\": \"science\"\n",
      "                },\n",
      "                {\n",
      "                    \"expname\": \"MRS_science/my_point_source_exposure11_cal.fits\",\n",
      "                    \"exptype\": \"science\"\n",
      "                },\n",
      "                {\n",
      "                    \"expname\": \"MRS_science/my_point_source_exposure12_cal.fits\",\n",
      "                    \"exptype\": \"science\"\n",
      "                },\n",
      "                {\n",
      "                    \"expname\": \"MRS_science/my_point_source_exposure1_cal.fits\",\n",
      "                    \"exptype\": \"science\"\n",
      "                },\n",
      "                {\n",
      "                    \"expname\": \"MRS_science/my_point_source_exposure2_cal.fits\",\n",
      "                    \"exptype\": \"science\"\n",
      "                },\n",
      "                {\n",
      "                    \"expname\": \"MRS_science/my_point_source_exposure3_cal.fits\",\n",
      "                    \"exptype\": \"science\"\n",
      "                },\n",
      "                {\n",
      "                    \"expname\": \"MRS_science/my_point_source_exposure4_cal.fits\",\n",
      "                    \"exptype\": \"science\"\n",
      "                },\n",
      "                {\n",
      "                    \"expname\": \"MRS_science/my_point_source_exposure5_cal.fits\",\n",
      "                    \"exptype\": \"science\"\n",
      "                },\n",
      "                {\n",
      "                    \"expname\": \"MRS_science/my_point_source_exposure6_cal.fits\",\n",
      "                    \"exptype\": \"science\"\n",
      "                },\n",
      "                {\n",
      "                    \"expname\": \"MRS_science/my_point_source_exposure7_cal.fits\",\n",
      "                    \"exptype\": \"science\"\n",
      "                },\n",
      "                {\n",
      "                    \"expname\": \"MRS_science/my_point_source_exposure8_cal.fits\",\n",
      "                    \"exptype\": \"science\"\n",
      "                },\n",
      "                {\n",
      "                    \"expname\": \"MRS_science/my_point_source_exposure9_cal.fits\",\n",
      "                    \"exptype\": \"science\"\n",
      "                }\n",
      "            ]\n",
      "        }\n",
      "    ]\n",
      "}\n"
     ]
    }
   ],
   "source": [
    "# load the science and background files to lists\n",
    "my_science_files = glob.glob('MRS_science/*cal.fits')\n",
    "my_science_files = sorted(my_science_files)\n",
    "\n",
    "# set the association name\n",
    "asn_name = 'my_point_source'\n",
    "\n",
    "# setup an empty level 2 association structure\n",
    "asn = asn_from_list(my_science_files, product_name=asn_name)\n",
    "\n",
    "# set some metadata\n",
    "asn['asn_pool'] = asn_name + '_pool'\n",
    "asn['asn_type'] = 'spec3'\n",
    "        \n",
    "# print the association and save to file\n",
    "name, ser = asn.dump()\n",
    "print(ser)\n",
    "\n",
    "asn_file = asn_name + '_lvl3_asn.json'\n",
    "with open(asn_file, 'w') as f:\n",
    "    f.write(ser)"
   ]
  },
  {
   "cell_type": "markdown",
   "metadata": {},
   "source": [
    "Import `Spec3Pipeline` and print the docstring to show some information"
   ]
  },
  {
   "cell_type": "code",
   "execution_count": 3,
   "metadata": {},
   "outputs": [
    {
     "name": "stdout",
     "output_type": "stream",
     "text": [
      "\n",
      "    Spec3Pipeline: Processes JWST spectroscopic exposures from Level 2b to 3.\n",
      "\n",
      "    Included steps are:\n",
      "    assign moving target wcs (assign_mtwcs)\n",
      "    master background subtraction (master_background)\n",
      "    MIRI MRS background matching (mrs_imatch)\n",
      "    outlier detection (outlier_detection)\n",
      "    2-D spectroscopic resampling (resample_spec)\n",
      "    3-D spectroscopic resampling (cube_build)\n",
      "    1-D spectral extraction (extract_1d)\n",
      "    1-D spectral combination (combine_1d)\n",
      "    \n"
     ]
    }
   ],
   "source": [
    "from jwst.pipeline import Spec3Pipeline\n",
    "print(Spec3Pipeline.__doc__)"
   ]
  },
  {
   "cell_type": "markdown",
   "metadata": {},
   "source": [
    "The association file is passed as input. The output files will be saved in `my_output_dir`. \n",
    "\n",
    "*Parameters used:*\n",
    "    \n",
    "`save_results`: boolean, optional, default=False  \n",
    "&nbsp;&nbsp;&nbsp;&nbsp; save the results to file\n",
    "    \n",
    "`output_dir` : boolean, optional, default is the working directory   \n",
    "&nbsp;&nbsp;&nbsp;&nbsp; the location to save the output\n",
    "\n",
    "`steps` : dict, optional, default None  \n",
    "&nbsp;&nbsp;&nbsp;&nbsp; pass parameters to steps\n",
    "\n",
    "The `skip` parameters is passed to `master_background' (becuase there is no background in the simulation), `outlier_detection` (due to a bug causing the pipeline to crash) and `skymatch` (which at the moment appears to be overestimating the background resulting in negative fluxes).\n"
   ]
  },
  {
   "cell_type": "code",
   "execution_count": 5,
   "metadata": {
    "scrolled": true
   },
   "outputs": [
    {
     "name": "stderr",
     "output_type": "stream",
     "text": [
      "2020-10-29 12:21:17,528 - CRDS - ERROR -  Error determining best reference for 'pars-assignmtwcsstep'  =   Unknown reference type 'pars-assignmtwcsstep'\n",
      "2020-10-29 12:21:20,642 - CRDS - ERROR -  Error determining best reference for 'pars-masterbackgroundstep'  =   Unknown reference type 'pars-masterbackgroundstep'\n",
      "2020-10-29 12:21:23,751 - CRDS - ERROR -  Error determining best reference for 'pars-mrsimatchstep'  =   Unknown reference type 'pars-mrsimatchstep'\n",
      "2020-10-29 12:21:26,880 - CRDS - ERROR -  Error determining best reference for 'pars-outlierdetectionstep'  =   Unknown reference type 'pars-outlierdetectionstep'\n",
      "2020-10-29 12:21:29,889 - CRDS - ERROR -  Error determining best reference for 'pars-resamplespecstep'  =   Unknown reference type 'pars-resamplespecstep'\n",
      "2020-10-29 12:21:33,045 - CRDS - ERROR -  Error determining best reference for 'pars-cubebuildstep'  =   Unknown reference type 'pars-cubebuildstep'\n",
      "2020-10-29 12:21:36,113 - CRDS - ERROR -  Error determining best reference for 'pars-extract1dstep'  =   Unknown reference type 'pars-extract1dstep'\n",
      "2020-10-29 12:21:39,272 - CRDS - ERROR -  Error determining best reference for 'pars-combine1dstep'  =   Unknown reference type 'pars-combine1dstep'\n",
      "2020-10-29 12:21:42,301 - CRDS - ERROR -  Error determining best reference for 'pars-spec3pipeline'  =   Unknown reference type 'pars-spec3pipeline'\n",
      "2020-10-29 12:21:42,309 - stpipe.Spec3Pipeline - INFO - Spec3Pipeline instance created.\n",
      "2020-10-29 12:21:42,310 - stpipe.Spec3Pipeline.assign_mtwcs - INFO - AssignMTWcsStep instance created.\n",
      "2020-10-29 12:21:42,312 - stpipe.Spec3Pipeline.master_background - INFO - MasterBackgroundStep instance created.\n",
      "2020-10-29 12:21:42,314 - stpipe.Spec3Pipeline.mrs_imatch - INFO - MRSIMatchStep instance created.\n",
      "2020-10-29 12:21:42,316 - stpipe.Spec3Pipeline.outlier_detection - INFO - OutlierDetectionStep instance created.\n",
      "2020-10-29 12:21:42,318 - stpipe.Spec3Pipeline.resample_spec - INFO - ResampleSpecStep instance created.\n",
      "2020-10-29 12:21:42,320 - stpipe.Spec3Pipeline.cube_build - INFO - CubeBuildStep instance created.\n",
      "2020-10-29 12:21:42,322 - stpipe.Spec3Pipeline.extract_1d - INFO - Extract1dStep instance created.\n",
      "2020-10-29 12:21:42,324 - stpipe.Spec3Pipeline.combine_1d - INFO - Combine1dStep instance created.\n",
      "2020-10-29 12:21:42,541 - stpipe.Spec3Pipeline - INFO - Step Spec3Pipeline running with args ('my_point_source_lvl3_asn.json',).\n",
      "2020-10-29 12:21:42,548 - stpipe.Spec3Pipeline - INFO - Step Spec3Pipeline parameters are: {'pre_hooks': [], 'post_hooks': [], 'output_file': None, 'output_dir': 'demo_output', 'output_ext': '.fits', 'output_use_model': False, 'output_use_index': True, 'save_results': True, 'skip': False, 'suffix': None, 'search_output_file': True, 'input_dir': '', 'steps': {'assign_mtwcs': {'pre_hooks': [], 'post_hooks': [], 'output_file': None, 'output_dir': None, 'output_ext': '.fits', 'output_use_model': True, 'output_use_index': True, 'save_results': False, 'skip': False, 'suffix': 'assign_mtwcs', 'search_output_file': True, 'input_dir': ''}, 'master_background': {'pre_hooks': [], 'post_hooks': [], 'output_file': None, 'output_dir': None, 'output_ext': '.fits', 'output_use_model': True, 'output_use_index': True, 'save_results': False, 'skip': True, 'suffix': None, 'search_output_file': True, 'input_dir': '', 'user_background': None, 'save_background': False, 'force_subtract': False}, 'mrs_imatch': {'pre_hooks': [], 'post_hooks': [], 'output_file': None, 'output_dir': None, 'output_ext': '.fits', 'output_use_model': False, 'output_use_index': True, 'save_results': False, 'skip': True, 'suffix': None, 'search_output_file': True, 'input_dir': '', 'bkg_degree': 1, 'subtract': False}, 'outlier_detection': {'pre_hooks': [], 'post_hooks': [], 'output_file': None, 'output_dir': None, 'output_ext': '.fits', 'output_use_model': False, 'output_use_index': True, 'save_results': False, 'skip': True, 'suffix': None, 'search_output_file': False, 'input_dir': '', 'weight_type': 'exptime', 'pixfrac': 1.0, 'kernel': 'square', 'fillval': 'INDEF', 'nlow': 0, 'nhigh': 0, 'maskpt': 0.7, 'grow': 1, 'snr': '4.0 3.0', 'scale': '0.5 0.4', 'backg': 0.0, 'save_intermediate_results': False, 'resample_data': True, 'good_bits': '~DO_NOT_USE', 'scale_detection': False}, 'resample_spec': {'pre_hooks': [], 'post_hooks': [], 'output_file': None, 'output_dir': None, 'output_ext': '.fits', 'output_use_model': False, 'output_use_index': True, 'save_results': False, 'skip': False, 'suffix': None, 'search_output_file': True, 'input_dir': '', 'pixfrac': 1.0, 'kernel': 'square', 'fillval': 'INDEF', 'weight_type': 'exptime', 'single': False, 'blendheaders': True}, 'cube_build': {'pre_hooks': [], 'post_hooks': [], 'output_file': None, 'output_dir': None, 'output_ext': '.fits', 'output_use_model': True, 'output_use_index': True, 'save_results': False, 'skip': False, 'suffix': None, 'search_output_file': False, 'input_dir': '', 'channel': 'all', 'band': 'all', 'grating': 'all', 'filter': 'all', 'output_type': 'band', 'scale1': 0.0, 'scale2': 0.0, 'scalew': 0.0, 'weighting': 'emsm', 'coord_system': 'skyalign', 'rois': 0.0, 'roiw': 0.0, 'weight_power': 0.0, 'wavemin': None, 'wavemax': None, 'single': False, 'xdebug': None, 'ydebug': None, 'zdebug': None, 'skip_dqflagging': False}, 'extract_1d': {'pre_hooks': [], 'post_hooks': [], 'output_file': None, 'output_dir': None, 'output_ext': '.fits', 'output_use_model': False, 'output_use_index': True, 'save_results': False, 'skip': False, 'suffix': None, 'search_output_file': True, 'input_dir': '', 'smoothing_length': None, 'bkg_order': None, 'log_increment': 50, 'subtract_background': None, 'use_source_posn': None, 'apply_apcorr': True}, 'combine_1d': {'pre_hooks': [], 'post_hooks': [], 'output_file': None, 'output_dir': None, 'output_ext': '.fits', 'output_use_model': False, 'output_use_index': True, 'save_results': False, 'skip': False, 'suffix': None, 'search_output_file': True, 'input_dir': '', 'exptime_key': 'exposure_time'}}}\n",
      "2020-10-29 12:21:45,523 - stpipe.Spec3Pipeline - INFO - Prefetching reference files for dataset: 'my_point_source_exposure10_cal.fits' reftypes = ['apcorr', 'cubepar', 'drizpars', 'extract1d', 'resol']\n",
      "2020-10-29 12:21:45,530 - stpipe.Spec3Pipeline - INFO - Prefetch for APCORR reference file is '/Users/patrickkavanagh/crds_mirror/references/jwst/miri/jwst_miri_apcorr_0006.fits'.\n",
      "2020-10-29 12:21:45,531 - stpipe.Spec3Pipeline - INFO - Prefetch for CUBEPAR reference file is '/Users/patrickkavanagh/crds_mirror/references/jwst/miri/jwst_miri_cubepar_0003.fits'.\n",
      "2020-10-29 12:21:45,531 - stpipe.Spec3Pipeline - INFO - Prefetch for DRIZPARS reference file is '/Users/patrickkavanagh/crds_mirror/references/jwst/miri/jwst_miri_drizpars_0001.fits'.\n",
      "2020-10-29 12:21:45,532 - stpipe.Spec3Pipeline - INFO - Prefetch for EXTRACT1D reference file is '/Users/patrickkavanagh/crds_mirror/references/jwst/miri/jwst_miri_extract1d_0003.json'.\n",
      "2020-10-29 12:21:45,533 - stpipe.Spec3Pipeline - INFO - Prefetch for RESOL reference file is '/Users/patrickkavanagh/crds_mirror/references/jwst/miri/jwst_miri_resol_0003.fits'.\n",
      "2020-10-29 12:21:45,534 - stpipe.Spec3Pipeline - INFO - Starting calwebb_spec3 ...\n",
      "2020-10-29 12:22:18,719 - stpipe.Spec3Pipeline.mrs_imatch - INFO - Step mrs_imatch running with args (<ModelContainer>,).\n",
      "2020-10-29 12:22:18,721 - stpipe.Spec3Pipeline.mrs_imatch - INFO - Step mrs_imatch parameters are: {'pre_hooks': [], 'post_hooks': [], 'output_file': None, 'output_dir': None, 'output_ext': '.fits', 'output_use_model': False, 'output_use_index': True, 'save_results': False, 'skip': True, 'suffix': 'mrs_imatch', 'search_output_file': True, 'input_dir': '', 'bkg_degree': 1, 'subtract': False}\n",
      "2020-10-29 12:22:18,722 - stpipe.Spec3Pipeline.mrs_imatch - INFO - Step skipped.\n",
      "2020-10-29 12:22:18,726 - stpipe.Spec3Pipeline.mrs_imatch - INFO - Step mrs_imatch done\n",
      "2020-10-29 12:22:19,050 - stpipe.Spec3Pipeline.outlier_detection - INFO - Step outlier_detection running with args (<ModelContainer>,).\n",
      "2020-10-29 12:22:19,051 - stpipe.Spec3Pipeline.outlier_detection - INFO - Step outlier_detection parameters are: {'pre_hooks': [], 'post_hooks': [], 'output_file': None, 'output_dir': None, 'output_ext': '.fits', 'output_use_model': False, 'output_use_index': True, 'save_results': True, 'skip': True, 'suffix': 'crf', 'search_output_file': False, 'input_dir': '', 'weight_type': 'exptime', 'pixfrac': 1.0, 'kernel': 'square', 'fillval': 'INDEF', 'nlow': 0, 'nhigh': 0, 'maskpt': 0.7, 'grow': 1, 'snr': '4.0 3.0', 'scale': '0.5 0.4', 'backg': 0.0, 'save_intermediate_results': False, 'resample_data': True, 'good_bits': '~DO_NOT_USE', 'scale_detection': False}\n"
     ]
    },
    {
     "name": "stderr",
     "output_type": "stream",
     "text": [
      "2020-10-29 12:22:19,052 - stpipe.Spec3Pipeline.outlier_detection - INFO - Step skipped.\n",
      "2020-10-29 12:22:19,056 - stpipe.Spec3Pipeline.outlier_detection - INFO - Step outlier_detection done\n",
      "2020-10-29 12:22:19,382 - stpipe.Spec3Pipeline.cube_build - INFO - Step cube_build running with args (<ModelContainer>,).\n",
      "2020-10-29 12:22:19,384 - stpipe.Spec3Pipeline.cube_build - INFO - Step cube_build parameters are: {'pre_hooks': [], 'post_hooks': [], 'output_file': None, 'output_dir': None, 'output_ext': '.fits', 'output_use_model': True, 'output_use_index': True, 'save_results': True, 'skip': False, 'suffix': 's3d', 'search_output_file': False, 'input_dir': '', 'channel': 'all', 'band': 'all', 'grating': 'all', 'filter': 'all', 'output_type': 'band', 'scale1': 0.0, 'scale2': 0.0, 'scalew': 0.0, 'weighting': 'emsm', 'coord_system': 'skyalign', 'rois': 0.0, 'roiw': 0.0, 'weight_power': 0.0, 'wavemin': None, 'wavemax': None, 'single': False, 'xdebug': None, 'ydebug': None, 'zdebug': None, 'skip_dqflagging': False}\n",
      "2020-10-29 12:22:19,385 - stpipe.Spec3Pipeline.cube_build - INFO - Starting IFU Cube Building Step\n",
      "2020-10-29 12:22:19,386 - stpipe.Spec3Pipeline.cube_build - INFO - Input interpolation: pointcloud\n",
      "2020-10-29 12:22:19,386 - stpipe.Spec3Pipeline.cube_build - INFO - Coordinate system to use: skyalign\n",
      "2020-10-29 12:22:19,387 - stpipe.Spec3Pipeline.cube_build - INFO - Weighting method for point cloud: emsm\n",
      "2020-10-29 12:22:19,595 - stpipe.Spec3Pipeline.cube_build - INFO - The desired cubes cover the MIRI Channels: ['1', '1', '1', '2', '2', '2', '3', '3', '3', '4', '4', '4']\n",
      "2020-10-29 12:22:19,596 - stpipe.Spec3Pipeline.cube_build - INFO - The desired cubes cover the MIRI subchannels: ['short', 'medium', 'long', 'short', 'medium', 'long', 'short', 'medium', 'long', 'short', 'medium', 'long']\n",
      "2020-10-29 12:22:19,596 - stpipe.Spec3Pipeline.cube_build - INFO - Reading cube parameter file /Users/patrickkavanagh/crds_mirror/references/jwst/miri/jwst_miri_cubepar_0003.fits\n",
      "2020-10-29 12:22:20,893 - stpipe.Spec3Pipeline.cube_build - INFO - Output Cubes are single channel, single sub-channel IFU Cubes\n",
      "2020-10-29 12:22:20,894 - stpipe.Spec3Pipeline.cube_build - INFO - Number of IFU cubes produced by this run = 12\n",
      "2020-10-29 12:22:20,896 - stpipe.Spec3Pipeline.cube_build - INFO - Number of bands in cube: 1\n",
      "2020-10-29 12:22:21,563 - stpipe.Spec3Pipeline.cube_build - INFO - Cube Geometry:\n",
      "2020-10-29 12:22:21,564 - stpipe.Spec3Pipeline.cube_build - INFO - axis#  Naxis  CRPIX    CRVAL      CDELT(arcsec)  Min & Max (xi, eta arcsec)\n",
      "2020-10-29 12:22:21,565 - stpipe.Spec3Pipeline.cube_build - INFO - Axis 1    51  26.00   0.00000554   0.13000000  -3.31499988   3.31499988\n",
      "2020-10-29 12:22:21,565 - stpipe.Spec3Pipeline.cube_build - INFO - Axis 2    41  21.00   0.00000764   0.13000000  -2.66499990   2.66499990\n",
      "2020-10-29 12:22:21,566 - stpipe.Spec3Pipeline.cube_build - INFO - axis#  Naxis  CRPIX    CRVAL      CDELT(microns)  Min & Max (microns)\n",
      "2020-10-29 12:22:21,567 - stpipe.Spec3Pipeline.cube_build - INFO - Axis 3   850   1.00   4.89049987   0.00100000   4.88999987   5.73999991\n",
      "2020-10-29 12:22:21,567 - stpipe.Spec3Pipeline.cube_build - INFO - Cube covers channel, subchannel: 1, short\n",
      "2020-10-29 12:22:21,568 - stpipe.Spec3Pipeline.cube_build - INFO - Output Name: my_point_source_ch1-short_s3d.fits\n",
      "2020-10-29 12:22:21,989 - stpipe.Spec3Pipeline.cube_build - INFO - # of detector pixels not mapped to output plane: 6617 with wavelength below 4.889499866461847\n",
      "2020-10-29 12:22:21,990 - stpipe.Spec3Pipeline.cube_build - INFO - # of detector pixels not mapped to output plane: 11821 with wavelength above 5.740499906882178\n",
      "2020-10-29 12:22:22,036 - stpipe.Spec3Pipeline.cube_build - INFO - Time to transform pixels to output frame = 0.5 s\n",
      "2020-10-29 12:23:11,755 - stpipe.Spec3Pipeline.cube_build - INFO - Time to set initial dq values = 49.7 s\n",
      "2020-10-29 12:24:25,120 - stpipe.Spec3Pipeline.cube_build - INFO - Time to match file to ifucube = 73.4 s\n",
      "2020-10-29 12:24:25,511 - stpipe.Spec3Pipeline.cube_build - INFO - # of detector pixels not mapped to output plane: 6617 with wavelength below 4.889499866461847\n",
      "2020-10-29 12:24:25,512 - stpipe.Spec3Pipeline.cube_build - INFO - # of detector pixels not mapped to output plane: 11821 with wavelength above 5.740499906882178\n",
      "2020-10-29 12:24:25,570 - stpipe.Spec3Pipeline.cube_build - INFO - Time to transform pixels to output frame = 0.4 s\n",
      "2020-10-29 12:25:17,294 - stpipe.Spec3Pipeline.cube_build - INFO - Time to set initial dq values = 51.7 s\n",
      "2020-10-29 12:26:29,800 - stpipe.Spec3Pipeline.cube_build - INFO - Time to match file to ifucube = 72.5 s\n",
      "2020-10-29 12:26:29,861 - stpipe.Spec3Pipeline.cube_build - INFO - Average # of holes/wavelength plane is < 1\n",
      "2020-10-29 12:26:29,862 - stpipe.Spec3Pipeline.cube_build - INFO - Total # of holes for IFU cube is : 0\n",
      "2020-10-29 12:26:29,863 - stpipe.Spec3Pipeline.cube_build - INFO - Time to find Cube Flux = 0.1 s\n",
      "2020-10-29 12:26:31,864 - stpipe.Spec3Pipeline.cube_build - INFO - IFUChannel 1\n",
      "2020-10-29 12:26:31,902 - stpipe.Spec3Pipeline.cube_build - INFO - Number of bands in cube: 1\n",
      "2020-10-29 12:26:32,603 - stpipe.Spec3Pipeline.cube_build - INFO - Cube Geometry:\n",
      "2020-10-29 12:26:32,604 - stpipe.Spec3Pipeline.cube_build - INFO - axis#  Naxis  CRPIX    CRVAL      CDELT(arcsec)  Min & Max (xi, eta arcsec)\n",
      "2020-10-29 12:26:32,605 - stpipe.Spec3Pipeline.cube_build - INFO - Axis 1    49  25.00   0.00001065   0.13000000  -3.18499988   3.18499988\n",
      "2020-10-29 12:26:32,605 - stpipe.Spec3Pipeline.cube_build - INFO - Axis 2    39  20.00  -0.00003592   0.13000000  -2.53499991   2.53499991\n",
      "2020-10-29 12:26:32,606 - stpipe.Spec3Pipeline.cube_build - INFO - axis#  Naxis  CRPIX    CRVAL      CDELT(microns)  Min & Max (microns)\n",
      "2020-10-29 12:26:32,606 - stpipe.Spec3Pipeline.cube_build - INFO - Axis 3   980   1.00   5.64049987   0.00100000   5.63999987   6.61999991\n",
      "2020-10-29 12:26:32,607 - stpipe.Spec3Pipeline.cube_build - INFO - Cube covers channel, subchannel: 1, medium\n",
      "2020-10-29 12:26:32,608 - stpipe.Spec3Pipeline.cube_build - INFO - Output Name: my_point_source_ch1-medium_s3d.fits\n",
      "2020-10-29 12:26:33,053 - stpipe.Spec3Pipeline.cube_build - INFO - # of detector pixels not mapped to output plane: 6386 with wavelength below 5.639499866461847\n",
      "2020-10-29 12:26:33,054 - stpipe.Spec3Pipeline.cube_build - INFO - # of detector pixels not mapped to output plane: 11340 with wavelength above 6.620499913056847\n",
      "2020-10-29 12:26:33,105 - stpipe.Spec3Pipeline.cube_build - INFO - Time to transform pixels to output frame = 0.5 s\n",
      "2020-10-29 12:27:26,823 - stpipe.Spec3Pipeline.cube_build - INFO - Time to set initial dq values = 53.7 s\n",
      "2020-10-29 12:28:40,217 - stpipe.Spec3Pipeline.cube_build - INFO - Time to match file to ifucube = 73.4 s\n",
      "2020-10-29 12:28:40,637 - stpipe.Spec3Pipeline.cube_build - INFO - # of detector pixels not mapped to output plane: 6386 with wavelength below 5.639499866461847\n",
      "2020-10-29 12:28:40,637 - stpipe.Spec3Pipeline.cube_build - INFO - # of detector pixels not mapped to output plane: 11340 with wavelength above 6.620499913056847\n",
      "2020-10-29 12:28:40,692 - stpipe.Spec3Pipeline.cube_build - INFO - Time to transform pixels to output frame = 0.5 s\n",
      "2020-10-29 12:29:36,770 - stpipe.Spec3Pipeline.cube_build - INFO - Time to set initial dq values = 56.1 s\n",
      "2020-10-29 12:30:50,942 - stpipe.Spec3Pipeline.cube_build - INFO - Time to match file to ifucube = 74.2 s\n",
      "2020-10-29 12:30:51,011 - stpipe.Spec3Pipeline.cube_build - INFO - Average # of holes/wavelength plane is < 1\n",
      "2020-10-29 12:30:51,012 - stpipe.Spec3Pipeline.cube_build - INFO - Total # of holes for IFU cube is : 0\n",
      "2020-10-29 12:30:51,013 - stpipe.Spec3Pipeline.cube_build - INFO - Time to find Cube Flux = 0.1 s\n",
      "2020-10-29 12:30:53,367 - stpipe.Spec3Pipeline.cube_build - INFO - IFUChannel 1\n",
      "2020-10-29 12:30:53,405 - stpipe.Spec3Pipeline.cube_build - INFO - Number of bands in cube: 1\n",
      "2020-10-29 12:30:54,038 - stpipe.Spec3Pipeline.cube_build - INFO - Cube Geometry:\n",
      "2020-10-29 12:30:54,039 - stpipe.Spec3Pipeline.cube_build - INFO - axis#  Naxis  CRPIX    CRVAL      CDELT(arcsec)  Min & Max (xi, eta arcsec)\n",
      "2020-10-29 12:30:54,039 - stpipe.Spec3Pipeline.cube_build - INFO - Axis 1    49  25.00   0.00002678   0.13000000  -3.18499988   3.18499988\n"
     ]
    },
    {
     "name": "stderr",
     "output_type": "stream",
     "text": [
      "2020-10-29 12:30:54,040 - stpipe.Spec3Pipeline.cube_build - INFO - Axis 2    39  20.00   0.00004545   0.13000000  -2.53499991   2.53499991\n",
      "2020-10-29 12:30:54,040 - stpipe.Spec3Pipeline.cube_build - INFO - axis#  Naxis  CRPIX    CRVAL      CDELT(microns)  Min & Max (microns)\n",
      "2020-10-29 12:30:54,041 - stpipe.Spec3Pipeline.cube_build - INFO - Axis 3  1091   1.00   6.42050008   0.00100000   6.42000008   7.51100013\n",
      "2020-10-29 12:30:54,042 - stpipe.Spec3Pipeline.cube_build - INFO - Cube covers channel, subchannel: 1, long\n",
      "2020-10-29 12:30:54,043 - stpipe.Spec3Pipeline.cube_build - INFO - Output Name: my_point_source_ch1-long_s3d.fits\n",
      "2020-10-29 12:30:54,444 - stpipe.Spec3Pipeline.cube_build - INFO - # of detector pixels not mapped to output plane: 7703 with wavelength below 6.419500076270197\n",
      "2020-10-29 12:30:54,444 - stpipe.Spec3Pipeline.cube_build - INFO - # of detector pixels not mapped to output plane: 11127 with wavelength above 7.511500128137413\n",
      "2020-10-29 12:30:54,496 - stpipe.Spec3Pipeline.cube_build - INFO - Time to transform pixels to output frame = 0.5 s\n",
      "2020-10-29 12:31:53,663 - stpipe.Spec3Pipeline.cube_build - INFO - Time to set initial dq values = 59.2 s\n",
      "2020-10-29 12:33:05,231 - stpipe.Spec3Pipeline.cube_build - INFO - Time to match file to ifucube = 71.6 s\n",
      "2020-10-29 12:33:05,619 - stpipe.Spec3Pipeline.cube_build - INFO - # of detector pixels not mapped to output plane: 7703 with wavelength below 6.419500076270197\n",
      "2020-10-29 12:33:05,620 - stpipe.Spec3Pipeline.cube_build - INFO - # of detector pixels not mapped to output plane: 11127 with wavelength above 7.511500128137413\n",
      "2020-10-29 12:33:05,672 - stpipe.Spec3Pipeline.cube_build - INFO - Time to transform pixels to output frame = 0.4 s\n",
      "2020-10-29 12:34:07,364 - stpipe.Spec3Pipeline.cube_build - INFO - Time to set initial dq values = 61.7 s\n",
      "2020-10-29 12:35:18,416 - stpipe.Spec3Pipeline.cube_build - INFO - Time to match file to ifucube = 71.1 s\n",
      "2020-10-29 12:35:18,499 - stpipe.Spec3Pipeline.cube_build - INFO - Average # of holes/wavelength plane is < 1\n",
      "2020-10-29 12:35:18,500 - stpipe.Spec3Pipeline.cube_build - INFO - Total # of holes for IFU cube is : 0\n",
      "2020-10-29 12:35:18,501 - stpipe.Spec3Pipeline.cube_build - INFO - Time to find Cube Flux = 0.1 s\n",
      "2020-10-29 12:35:20,435 - stpipe.Spec3Pipeline.cube_build - INFO - IFUChannel 1\n",
      "2020-10-29 12:35:20,473 - stpipe.Spec3Pipeline.cube_build - INFO - Number of bands in cube: 1\n",
      "2020-10-29 12:35:21,097 - stpipe.Spec3Pipeline.cube_build - INFO - Cube Geometry:\n",
      "2020-10-29 12:35:21,098 - stpipe.Spec3Pipeline.cube_build - INFO - axis#  Naxis  CRPIX    CRVAL      CDELT(arcsec)  Min & Max (xi, eta arcsec)\n",
      "2020-10-29 12:35:21,099 - stpipe.Spec3Pipeline.cube_build - INFO - Axis 1    45  23.00   0.00000544   0.17000000  -3.82500004   3.82500004\n",
      "2020-10-29 12:35:21,099 - stpipe.Spec3Pipeline.cube_build - INFO - Axis 2    37  19.00  -0.00008178   0.17000000  -3.14500003   3.14500003\n",
      "2020-10-29 12:35:21,100 - stpipe.Spec3Pipeline.cube_build - INFO - axis#  Naxis  CRPIX    CRVAL      CDELT(microns)  Min & Max (microns)\n",
      "2020-10-29 12:35:21,101 - stpipe.Spec3Pipeline.cube_build - INFO - Axis 3   631   1.00   7.49099977   0.00200000   7.48999977   8.75199983\n",
      "2020-10-29 12:35:21,101 - stpipe.Spec3Pipeline.cube_build - INFO - Cube covers channel, subchannel: 2, short\n",
      "2020-10-29 12:35:21,102 - stpipe.Spec3Pipeline.cube_build - INFO - Output Name: my_point_source_ch2-short_s3d.fits\n",
      "2020-10-29 12:35:21,475 - stpipe.Spec3Pipeline.cube_build - INFO - # of detector pixels not mapped to output plane: 9353 with wavelength below 7.488999771070667\n",
      "2020-10-29 12:35:21,476 - stpipe.Spec3Pipeline.cube_build - INFO - # of detector pixels not mapped to output plane: 13669 with wavelength above 8.752999831107445\n",
      "2020-10-29 12:35:21,526 - stpipe.Spec3Pipeline.cube_build - INFO - Time to transform pixels to output frame = 0.4 s\n",
      "2020-10-29 12:35:52,450 - stpipe.Spec3Pipeline.cube_build - INFO - Time to set initial dq values = 30.9 s\n",
      "2020-10-29 12:36:47,124 - stpipe.Spec3Pipeline.cube_build - INFO - Time to match file to ifucube = 54.7 s\n",
      "2020-10-29 12:36:47,486 - stpipe.Spec3Pipeline.cube_build - INFO - # of detector pixels not mapped to output plane: 9353 with wavelength below 7.488999771070667\n",
      "2020-10-29 12:36:47,487 - stpipe.Spec3Pipeline.cube_build - INFO - # of detector pixels not mapped to output plane: 13669 with wavelength above 8.752999831107445\n",
      "2020-10-29 12:36:47,543 - stpipe.Spec3Pipeline.cube_build - INFO - Time to transform pixels to output frame = 0.4 s\n",
      "2020-10-29 12:37:19,913 - stpipe.Spec3Pipeline.cube_build - INFO - Time to set initial dq values = 32.4 s\n",
      "2020-10-29 12:38:16,046 - stpipe.Spec3Pipeline.cube_build - INFO - Time to match file to ifucube = 56.1 s\n",
      "2020-10-29 12:38:16,083 - stpipe.Spec3Pipeline.cube_build - INFO - Average # of holes/wavelength plane is < 1\n",
      "2020-10-29 12:38:16,083 - stpipe.Spec3Pipeline.cube_build - INFO - Total # of holes for IFU cube is : 0\n",
      "2020-10-29 12:38:16,084 - stpipe.Spec3Pipeline.cube_build - INFO - Time to find Cube Flux = 0.0 s\n",
      "2020-10-29 12:38:18,413 - stpipe.Spec3Pipeline.cube_build - INFO - IFUChannel 2\n",
      "2020-10-29 12:38:18,447 - stpipe.Spec3Pipeline.cube_build - INFO - Number of bands in cube: 1\n",
      "2020-10-29 12:38:19,047 - stpipe.Spec3Pipeline.cube_build - INFO - Cube Geometry:\n",
      "2020-10-29 12:38:19,048 - stpipe.Spec3Pipeline.cube_build - INFO - axis#  Naxis  CRPIX    CRVAL      CDELT(arcsec)  Min & Max (xi, eta arcsec)\n",
      "2020-10-29 12:38:19,049 - stpipe.Spec3Pipeline.cube_build - INFO - Axis 1    45  23.00  -0.00003404   0.17000000  -3.82500004   3.82500004\n",
      "2020-10-29 12:38:19,049 - stpipe.Spec3Pipeline.cube_build - INFO - Axis 2    37  19.00  -0.00014826   0.17000000  -3.14500003   3.14500003\n",
      "2020-10-29 12:38:19,050 - stpipe.Spec3Pipeline.cube_build - INFO - axis#  Naxis  CRPIX    CRVAL      CDELT(microns)  Min & Max (microns)\n",
      "2020-10-29 12:38:19,051 - stpipe.Spec3Pipeline.cube_build - INFO - Axis 3   750   1.00   8.72100027   0.00200000   8.72000027  10.22000034\n",
      "2020-10-29 12:38:19,051 - stpipe.Spec3Pipeline.cube_build - INFO - Cube covers channel, subchannel: 2, medium\n",
      "2020-10-29 12:38:19,052 - stpipe.Spec3Pipeline.cube_build - INFO - Output Name: my_point_source_ch2-medium_s3d.fits\n",
      "2020-10-29 12:38:19,421 - stpipe.Spec3Pipeline.cube_build - INFO - # of detector pixels not mapped to output plane: 7942 with wavelength below 8.719000266981311\n",
      "2020-10-29 12:38:19,422 - stpipe.Spec3Pipeline.cube_build - INFO - # of detector pixels not mapped to output plane: 11827 with wavelength above 10.221000338322483\n",
      "2020-10-29 12:38:19,469 - stpipe.Spec3Pipeline.cube_build - INFO - Time to transform pixels to output frame = 0.4 s\n",
      "2020-10-29 12:38:56,399 - stpipe.Spec3Pipeline.cube_build - INFO - Time to set initial dq values = 36.9 s\n",
      "2020-10-29 12:39:58,984 - stpipe.Spec3Pipeline.cube_build - INFO - Time to match file to ifucube = 62.6 s\n",
      "2020-10-29 12:39:59,346 - stpipe.Spec3Pipeline.cube_build - INFO - # of detector pixels not mapped to output plane: 7942 with wavelength below 8.719000266981311\n",
      "2020-10-29 12:39:59,346 - stpipe.Spec3Pipeline.cube_build - INFO - # of detector pixels not mapped to output plane: 11827 with wavelength above 10.221000338322483\n",
      "2020-10-29 12:39:59,408 - stpipe.Spec3Pipeline.cube_build - INFO - Time to transform pixels to output frame = 0.4 s\n",
      "2020-10-29 12:40:37,236 - stpipe.Spec3Pipeline.cube_build - INFO - Time to set initial dq values = 37.8 s\n",
      "2020-10-29 12:41:39,944 - stpipe.Spec3Pipeline.cube_build - INFO - Time to match file to ifucube = 62.7 s\n",
      "2020-10-29 12:41:39,988 - stpipe.Spec3Pipeline.cube_build - INFO - Average # of holes/wavelength plane is < 1\n",
      "2020-10-29 12:41:39,989 - stpipe.Spec3Pipeline.cube_build - INFO - Total # of holes for IFU cube is : 0\n",
      "2020-10-29 12:41:39,990 - stpipe.Spec3Pipeline.cube_build - INFO - Time to find Cube Flux = 0.0 s\n",
      "2020-10-29 12:41:41,850 - stpipe.Spec3Pipeline.cube_build - INFO - IFUChannel 2\n",
      "2020-10-29 12:41:41,887 - stpipe.Spec3Pipeline.cube_build - INFO - Number of bands in cube: 1\n",
      "2020-10-29 12:41:42,493 - stpipe.Spec3Pipeline.cube_build - INFO - Cube Geometry:\n",
      "2020-10-29 12:41:42,494 - stpipe.Spec3Pipeline.cube_build - INFO - axis#  Naxis  CRPIX    CRVAL      CDELT(arcsec)  Min & Max (xi, eta arcsec)\n"
     ]
    },
    {
     "name": "stderr",
     "output_type": "stream",
     "text": [
      "2020-10-29 12:41:42,494 - stpipe.Spec3Pipeline.cube_build - INFO - Axis 1    45  23.00   0.00002886   0.17000000  -3.82500004   3.82500004\n",
      "2020-10-29 12:41:42,495 - stpipe.Spec3Pipeline.cube_build - INFO - Axis 2    37  19.00  -0.00013414   0.17000000  -3.14500003   3.14500003\n",
      "2020-10-29 12:41:42,496 - stpipe.Spec3Pipeline.cube_build - INFO - axis#  Naxis  CRPIX    CRVAL      CDELT(microns)  Min & Max (microns)\n",
      "2020-10-29 12:41:42,496 - stpipe.Spec3Pipeline.cube_build - INFO - Axis 3   855   1.00  10.03099973   0.00200000  10.02999973  11.73999981\n",
      "2020-10-29 12:41:42,497 - stpipe.Spec3Pipeline.cube_build - INFO - Cube covers channel, subchannel: 2, long\n",
      "2020-10-29 12:41:42,498 - stpipe.Spec3Pipeline.cube_build - INFO - Output Name: my_point_source_ch2-long_s3d.fits\n",
      "2020-10-29 12:41:42,854 - stpipe.Spec3Pipeline.cube_build - INFO - # of detector pixels not mapped to output plane: 8411 with wavelength below 10.028999732923694\n",
      "2020-10-29 12:41:42,855 - stpipe.Spec3Pipeline.cube_build - INFO - # of detector pixels not mapped to output plane: 12388 with wavelength above 11.74099981423933\n",
      "2020-10-29 12:41:42,902 - stpipe.Spec3Pipeline.cube_build - INFO - Time to transform pixels to output frame = 0.4 s\n",
      "2020-10-29 12:42:24,100 - stpipe.Spec3Pipeline.cube_build - INFO - Time to set initial dq values = 41.2 s\n",
      "2020-10-29 12:43:34,921 - stpipe.Spec3Pipeline.cube_build - INFO - Time to match file to ifucube = 70.8 s\n",
      "2020-10-29 12:43:35,786 - stpipe.Spec3Pipeline.cube_build - INFO - # of detector pixels not mapped to output plane: 8411 with wavelength below 10.028999732923694\n",
      "2020-10-29 12:43:35,787 - stpipe.Spec3Pipeline.cube_build - INFO - # of detector pixels not mapped to output plane: 12388 with wavelength above 11.74099981423933\n",
      "2020-10-29 12:43:35,840 - stpipe.Spec3Pipeline.cube_build - INFO - Time to transform pixels to output frame = 0.9 s\n",
      "2020-10-29 12:44:19,652 - stpipe.Spec3Pipeline.cube_build - INFO - Time to set initial dq values = 43.8 s\n",
      "2020-10-29 12:45:33,591 - stpipe.Spec3Pipeline.cube_build - INFO - Time to match file to ifucube = 73.9 s\n",
      "2020-10-29 12:45:33,649 - stpipe.Spec3Pipeline.cube_build - INFO - Average # of holes/wavelength plane is < 1\n",
      "2020-10-29 12:45:33,650 - stpipe.Spec3Pipeline.cube_build - INFO - Total # of holes for IFU cube is : 0\n",
      "2020-10-29 12:45:33,651 - stpipe.Spec3Pipeline.cube_build - INFO - Time to find Cube Flux = 0.1 s\n",
      "2020-10-29 12:45:35,692 - stpipe.Spec3Pipeline.cube_build - INFO - IFUChannel 2\n",
      "2020-10-29 12:45:35,729 - stpipe.Spec3Pipeline.cube_build - INFO - Number of bands in cube: 1\n",
      "2020-10-29 12:45:36,387 - stpipe.Spec3Pipeline.cube_build - INFO - Cube Geometry:\n",
      "2020-10-29 12:45:36,388 - stpipe.Spec3Pipeline.cube_build - INFO - axis#  Naxis  CRPIX    CRVAL      CDELT(arcsec)  Min & Max (xi, eta arcsec)\n",
      "2020-10-29 12:45:36,389 - stpipe.Spec3Pipeline.cube_build - INFO - Axis 1    49  25.00  -0.00013853   0.20000000  -4.90000007   4.90000007\n",
      "2020-10-29 12:45:36,390 - stpipe.Spec3Pipeline.cube_build - INFO - Axis 2    41  21.00  -0.00001006   0.20000000  -4.10000006   4.10000006\n",
      "2020-10-29 12:45:36,391 - stpipe.Spec3Pipeline.cube_build - INFO - axis#  Naxis  CRPIX    CRVAL      CDELT(microns)  Min & Max (microns)\n",
      "2020-10-29 12:45:36,392 - stpipe.Spec3Pipeline.cube_build - INFO - Axis 3   650   1.00  11.53149973   0.00300000  11.52999973  13.47999975\n",
      "2020-10-29 12:45:36,393 - stpipe.Spec3Pipeline.cube_build - INFO - Cube covers channel, subchannel: 3, short\n",
      "2020-10-29 12:45:36,394 - stpipe.Spec3Pipeline.cube_build - INFO - Output Name: my_point_source_ch3-short_s3d.fits\n",
      "2020-10-29 12:45:36,785 - stpipe.Spec3Pipeline.cube_build - INFO - # of detector pixels not mapped to output plane: 7784 with wavelength below 11.528499732958153\n",
      "2020-10-29 12:45:36,786 - stpipe.Spec3Pipeline.cube_build - INFO - # of detector pixels not mapped to output plane: 11841 with wavelength above 13.4814997499343\n",
      "2020-10-29 12:45:36,837 - stpipe.Spec3Pipeline.cube_build - INFO - Time to transform pixels to output frame = 0.4 s\n",
      "2020-10-29 12:46:18,607 - stpipe.Spec3Pipeline.cube_build - INFO - Time to set initial dq values = 41.8 s\n",
      "2020-10-29 12:47:29,949 - stpipe.Spec3Pipeline.cube_build - INFO - Time to match file to ifucube = 71.3 s\n",
      "2020-10-29 12:47:30,315 - stpipe.Spec3Pipeline.cube_build - INFO - # of detector pixels not mapped to output plane: 7784 with wavelength below 11.528499732958153\n",
      "2020-10-29 12:47:30,316 - stpipe.Spec3Pipeline.cube_build - INFO - # of detector pixels not mapped to output plane: 11841 with wavelength above 13.4814997499343\n",
      "2020-10-29 12:47:30,372 - stpipe.Spec3Pipeline.cube_build - INFO - Time to transform pixels to output frame = 0.4 s\n",
      "2020-10-29 12:48:11,381 - stpipe.Spec3Pipeline.cube_build - INFO - Time to set initial dq values = 41.0 s\n",
      "2020-10-29 12:49:26,256 - stpipe.Spec3Pipeline.cube_build - INFO - Time to match file to ifucube = 74.9 s\n",
      "2020-10-29 12:49:26,303 - stpipe.Spec3Pipeline.cube_build - INFO - Average # of holes/wavelength plane is < 1\n",
      "2020-10-29 12:49:26,303 - stpipe.Spec3Pipeline.cube_build - INFO - Total # of holes for IFU cube is : 0\n",
      "2020-10-29 12:49:26,305 - stpipe.Spec3Pipeline.cube_build - INFO - Time to find Cube Flux = 0.0 s\n",
      "2020-10-29 12:49:28,692 - stpipe.Spec3Pipeline.cube_build - INFO - IFUChannel 3\n",
      "2020-10-29 12:49:28,731 - stpipe.Spec3Pipeline.cube_build - INFO - Number of bands in cube: 1\n",
      "2020-10-29 12:49:29,364 - stpipe.Spec3Pipeline.cube_build - INFO - Cube Geometry:\n",
      "2020-10-29 12:49:29,365 - stpipe.Spec3Pipeline.cube_build - INFO - axis#  Naxis  CRPIX    CRVAL      CDELT(arcsec)  Min & Max (xi, eta arcsec)\n",
      "2020-10-29 12:49:29,365 - stpipe.Spec3Pipeline.cube_build - INFO - Axis 1    47  24.00  -0.00011257   0.20000000  -4.70000007   4.70000007\n",
      "2020-10-29 12:49:29,366 - stpipe.Spec3Pipeline.cube_build - INFO - Axis 2    41  21.00  -0.00007863   0.20000000  -4.10000006   4.10000006\n",
      "2020-10-29 12:49:29,366 - stpipe.Spec3Pipeline.cube_build - INFO - axis#  Naxis  CRPIX    CRVAL      CDELT(microns)  Min & Max (microns)\n",
      "2020-10-29 12:49:29,367 - stpipe.Spec3Pipeline.cube_build - INFO - Axis 3   757   1.00  13.37149989   0.00300000  13.36999989  15.64099991\n",
      "2020-10-29 12:49:29,368 - stpipe.Spec3Pipeline.cube_build - INFO - Cube covers channel, subchannel: 3, medium\n",
      "2020-10-29 12:49:29,369 - stpipe.Spec3Pipeline.cube_build - INFO - Output Name: my_point_source_ch3-medium_s3d.fits\n",
      "2020-10-29 12:49:29,742 - stpipe.Spec3Pipeline.cube_build - INFO - # of detector pixels not mapped to output plane: 6977 with wavelength below 13.368499885546044\n",
      "2020-10-29 12:49:29,743 - stpipe.Spec3Pipeline.cube_build - INFO - # of detector pixels not mapped to output plane: 11286 with wavelength above 15.642499905312434\n",
      "2020-10-29 12:49:29,792 - stpipe.Spec3Pipeline.cube_build - INFO - Time to transform pixels to output frame = 0.4 s\n",
      "2020-10-29 12:50:16,165 - stpipe.Spec3Pipeline.cube_build - INFO - Time to set initial dq values = 46.4 s\n",
      "2020-10-29 12:51:39,985 - stpipe.Spec3Pipeline.cube_build - INFO - Time to match file to ifucube = 83.8 s\n",
      "2020-10-29 12:51:40,354 - stpipe.Spec3Pipeline.cube_build - INFO - # of detector pixels not mapped to output plane: 6977 with wavelength below 13.368499885546044\n",
      "2020-10-29 12:51:40,355 - stpipe.Spec3Pipeline.cube_build - INFO - # of detector pixels not mapped to output plane: 11286 with wavelength above 15.642499905312434\n",
      "2020-10-29 12:51:40,419 - stpipe.Spec3Pipeline.cube_build - INFO - Time to transform pixels to output frame = 0.4 s\n",
      "2020-10-29 12:52:27,345 - stpipe.Spec3Pipeline.cube_build - INFO - Time to set initial dq values = 46.9 s\n",
      "2020-10-29 12:53:53,784 - stpipe.Spec3Pipeline.cube_build - INFO - Time to match file to ifucube = 86.4 s\n",
      "2020-10-29 12:53:53,844 - stpipe.Spec3Pipeline.cube_build - INFO - Average # of holes/wavelength plane is < 1\n",
      "2020-10-29 12:53:53,845 - stpipe.Spec3Pipeline.cube_build - INFO - Total # of holes for IFU cube is : 0\n",
      "2020-10-29 12:53:53,846 - stpipe.Spec3Pipeline.cube_build - INFO - Time to find Cube Flux = 0.1 s\n",
      "2020-10-29 12:53:55,867 - stpipe.Spec3Pipeline.cube_build - INFO - IFUChannel 3\n",
      "2020-10-29 12:53:55,905 - stpipe.Spec3Pipeline.cube_build - INFO - Number of bands in cube: 1\n",
      "2020-10-29 12:53:56,597 - stpipe.Spec3Pipeline.cube_build - INFO - Cube Geometry:\n"
     ]
    },
    {
     "name": "stderr",
     "output_type": "stream",
     "text": [
      "2020-10-29 12:53:56,598 - stpipe.Spec3Pipeline.cube_build - INFO - axis#  Naxis  CRPIX    CRVAL      CDELT(arcsec)  Min & Max (xi, eta arcsec)\n",
      "2020-10-29 12:53:56,599 - stpipe.Spec3Pipeline.cube_build - INFO - Axis 1    47  24.00  -0.00013548   0.20000000  -4.70000007   4.70000007\n",
      "2020-10-29 12:53:56,599 - stpipe.Spec3Pipeline.cube_build - INFO - Axis 2    41  21.00  -0.00007256   0.20000000  -4.10000006   4.10000006\n",
      "2020-10-29 12:53:56,600 - stpipe.Spec3Pipeline.cube_build - INFO - axis#  Naxis  CRPIX    CRVAL      CDELT(microns)  Min & Max (microns)\n",
      "2020-10-29 12:53:56,601 - stpipe.Spec3Pipeline.cube_build - INFO - Axis 3   877   1.00  15.44149958   0.00300000  15.43999958  18.07099960\n",
      "2020-10-29 12:53:56,601 - stpipe.Spec3Pipeline.cube_build - INFO - Cube covers channel, subchannel: 3, long\n",
      "2020-10-29 12:53:56,602 - stpipe.Spec3Pipeline.cube_build - INFO - Output Name: my_point_source_ch3-long_s3d.fits\n",
      "2020-10-29 12:53:56,995 - stpipe.Spec3Pipeline.cube_build - INFO - # of detector pixels not mapped to output plane: 7034 with wavelength below 15.438499580370262\n",
      "2020-10-29 12:53:56,996 - stpipe.Spec3Pipeline.cube_build - INFO - # of detector pixels not mapped to output plane: 9855 with wavelength above 18.072499603265896\n",
      "2020-10-29 12:53:57,054 - stpipe.Spec3Pipeline.cube_build - INFO - Time to transform pixels to output frame = 0.5 s\n",
      "2020-10-29 12:54:49,711 - stpipe.Spec3Pipeline.cube_build - INFO - Time to set initial dq values = 52.7 s\n",
      "2020-10-29 12:56:30,798 - stpipe.Spec3Pipeline.cube_build - INFO - Time to match file to ifucube = 101.1 s\n",
      "2020-10-29 12:56:31,177 - stpipe.Spec3Pipeline.cube_build - INFO - # of detector pixels not mapped to output plane: 7034 with wavelength below 15.438499580370262\n",
      "2020-10-29 12:56:31,178 - stpipe.Spec3Pipeline.cube_build - INFO - # of detector pixels not mapped to output plane: 9855 with wavelength above 18.072499603265896\n",
      "2020-10-29 12:56:31,234 - stpipe.Spec3Pipeline.cube_build - INFO - Time to transform pixels to output frame = 0.4 s\n",
      "2020-10-29 12:57:25,236 - stpipe.Spec3Pipeline.cube_build - INFO - Time to set initial dq values = 54.0 s\n",
      "2020-10-29 12:59:03,345 - stpipe.Spec3Pipeline.cube_build - INFO - Time to match file to ifucube = 98.1 s\n",
      "2020-10-29 12:59:03,410 - stpipe.Spec3Pipeline.cube_build - INFO - Average # of holes/wavelength plane is < 1\n",
      "2020-10-29 12:59:03,411 - stpipe.Spec3Pipeline.cube_build - INFO - Total # of holes for IFU cube is : 0\n",
      "2020-10-29 12:59:03,412 - stpipe.Spec3Pipeline.cube_build - INFO - Time to find Cube Flux = 0.1 s\n",
      "2020-10-29 12:59:05,812 - stpipe.Spec3Pipeline.cube_build - INFO - IFUChannel 3\n",
      "2020-10-29 12:59:05,850 - stpipe.Spec3Pipeline.cube_build - INFO - Number of bands in cube: 1\n",
      "2020-10-29 12:59:06,410 - stpipe.Spec3Pipeline.cube_build - INFO - Cube Geometry:\n",
      "2020-10-29 12:59:06,411 - stpipe.Spec3Pipeline.cube_build - INFO - axis#  Naxis  CRPIX    CRVAL      CDELT(arcsec)  Min & Max (xi, eta arcsec)\n",
      "2020-10-29 12:59:06,411 - stpipe.Spec3Pipeline.cube_build - INFO - Axis 1    35  18.00   0.00006316   0.34999999  -6.12499990   6.12499990\n",
      "2020-10-29 12:59:06,412 - stpipe.Spec3Pipeline.cube_build - INFO - Axis 2    29  15.00  -0.00016948   0.34999999  -5.07499991   5.07499991\n",
      "2020-10-29 12:59:06,413 - stpipe.Spec3Pipeline.cube_build - INFO - axis#  Naxis  CRPIX    CRVAL      CDELT(microns)  Min & Max (microns)\n",
      "2020-10-29 12:59:06,413 - stpipe.Spec3Pipeline.cube_build - INFO - Axis 3   546   1.00  17.66299985   0.00600000  17.65999985  20.93599988\n",
      "2020-10-29 12:59:06,414 - stpipe.Spec3Pipeline.cube_build - INFO - Cube covers channel, subchannel: 4, short\n",
      "2020-10-29 12:59:06,415 - stpipe.Spec3Pipeline.cube_build - INFO - Output Name: my_point_source_ch4-short_s3d.fits\n",
      "2020-10-29 12:59:06,736 - stpipe.Spec3Pipeline.cube_build - INFO - # of detector pixels not mapped to output plane: 5749 with wavelength below 17.656999847386032\n",
      "2020-10-29 12:59:06,736 - stpipe.Spec3Pipeline.cube_build - INFO - # of detector pixels not mapped to output plane: 5741 with wavelength above 20.938999875914305\n",
      "2020-10-29 12:59:06,782 - stpipe.Spec3Pipeline.cube_build - INFO - Time to transform pixels to output frame = 0.4 s\n",
      "2020-10-29 12:59:24,517 - stpipe.Spec3Pipeline.cube_build - INFO - Time to set initial dq values = 17.7 s\n",
      "2020-10-29 13:00:16,453 - stpipe.Spec3Pipeline.cube_build - INFO - Time to match file to ifucube = 51.9 s\n",
      "2020-10-29 13:00:16,777 - stpipe.Spec3Pipeline.cube_build - INFO - # of detector pixels not mapped to output plane: 5749 with wavelength below 17.656999847386032\n",
      "2020-10-29 13:00:16,778 - stpipe.Spec3Pipeline.cube_build - INFO - # of detector pixels not mapped to output plane: 5741 with wavelength above 20.938999875914305\n",
      "2020-10-29 13:00:16,824 - stpipe.Spec3Pipeline.cube_build - INFO - Time to transform pixels to output frame = 0.4 s\n",
      "2020-10-29 13:00:34,268 - stpipe.Spec3Pipeline.cube_build - INFO - Time to set initial dq values = 17.4 s\n",
      "2020-10-29 13:01:26,524 - stpipe.Spec3Pipeline.cube_build - INFO - Time to match file to ifucube = 52.3 s\n",
      "2020-10-29 13:01:26,541 - stpipe.Spec3Pipeline.cube_build - INFO - Average # of holes/wavelength plane is < 1\n",
      "2020-10-29 13:01:26,541 - stpipe.Spec3Pipeline.cube_build - INFO - Total # of holes for IFU cube is : 0\n",
      "2020-10-29 13:01:26,542 - stpipe.Spec3Pipeline.cube_build - INFO - Time to find Cube Flux = 0.0 s\n",
      "2020-10-29 13:01:28,385 - stpipe.Spec3Pipeline.cube_build - INFO - IFUChannel 4\n",
      "2020-10-29 13:01:28,416 - stpipe.Spec3Pipeline.cube_build - INFO - Number of bands in cube: 1\n",
      "2020-10-29 13:01:28,961 - stpipe.Spec3Pipeline.cube_build - INFO - Cube Geometry:\n",
      "2020-10-29 13:01:28,961 - stpipe.Spec3Pipeline.cube_build - INFO - axis#  Naxis  CRPIX    CRVAL      CDELT(arcsec)  Min & Max (xi, eta arcsec)\n",
      "2020-10-29 13:01:28,962 - stpipe.Spec3Pipeline.cube_build - INFO - Axis 1    35  18.00   0.00006653   0.34999999  -6.12499990   6.12499990\n",
      "2020-10-29 13:01:28,962 - stpipe.Spec3Pipeline.cube_build - INFO - Axis 2    29  15.00  -0.00015177   0.34999999  -5.07499991   5.07499991\n",
      "2020-10-29 13:01:28,963 - stpipe.Spec3Pipeline.cube_build - INFO - axis#  Naxis  CRPIX    CRVAL      CDELT(microns)  Min & Max (microns)\n",
      "2020-10-29 13:01:28,964 - stpipe.Spec3Pipeline.cube_build - INFO - Axis 3   632   1.00  20.42300008   0.00600000  20.42000008  24.21200011\n",
      "2020-10-29 13:01:28,964 - stpipe.Spec3Pipeline.cube_build - INFO - Cube covers channel, subchannel: 4, medium\n",
      "2020-10-29 13:01:28,965 - stpipe.Spec3Pipeline.cube_build - INFO - Output Name: my_point_source_ch4-medium_s3d.fits\n",
      "2020-10-29 13:01:29,294 - stpipe.Spec3Pipeline.cube_build - INFO - # of detector pixels not mapped to output plane: 4506 with wavelength below 20.41700007626787\n",
      "2020-10-29 13:01:29,295 - stpipe.Spec3Pipeline.cube_build - INFO - # of detector pixels not mapped to output plane: 6252 with wavelength above 24.21500010928139\n",
      "2020-10-29 13:01:29,345 - stpipe.Spec3Pipeline.cube_build - INFO - Time to transform pixels to output frame = 0.4 s\n",
      "2020-10-29 13:01:49,518 - stpipe.Spec3Pipeline.cube_build - INFO - Time to set initial dq values = 20.2 s\n",
      "2020-10-29 13:02:50,696 - stpipe.Spec3Pipeline.cube_build - INFO - Time to match file to ifucube = 61.2 s\n",
      "2020-10-29 13:02:51,019 - stpipe.Spec3Pipeline.cube_build - INFO - # of detector pixels not mapped to output plane: 4506 with wavelength below 20.41700007626787\n",
      "2020-10-29 13:02:51,020 - stpipe.Spec3Pipeline.cube_build - INFO - # of detector pixels not mapped to output plane: 6252 with wavelength above 24.21500010928139\n",
      "2020-10-29 13:02:51,068 - stpipe.Spec3Pipeline.cube_build - INFO - Time to transform pixels to output frame = 0.4 s\n",
      "2020-10-29 13:03:11,595 - stpipe.Spec3Pipeline.cube_build - INFO - Time to set initial dq values = 20.5 s\n",
      "2020-10-29 13:04:15,642 - stpipe.Spec3Pipeline.cube_build - INFO - Time to match file to ifucube = 64.0 s\n",
      "2020-10-29 13:04:15,663 - stpipe.Spec3Pipeline.cube_build - INFO - Average # of holes/wavelength plane is < 1\n",
      "2020-10-29 13:04:15,664 - stpipe.Spec3Pipeline.cube_build - INFO - Total # of holes for IFU cube is : 0\n",
      "2020-10-29 13:04:15,665 - stpipe.Spec3Pipeline.cube_build - INFO - Time to find Cube Flux = 0.0 s\n",
      "2020-10-29 13:04:18,255 - stpipe.Spec3Pipeline.cube_build - INFO - IFUChannel 4\n"
     ]
    },
    {
     "name": "stderr",
     "output_type": "stream",
     "text": [
      "2020-10-29 13:04:18,288 - stpipe.Spec3Pipeline.cube_build - INFO - Number of bands in cube: 1\n",
      "2020-10-29 13:04:18,855 - stpipe.Spec3Pipeline.cube_build - INFO - Cube Geometry:\n",
      "2020-10-29 13:04:18,856 - stpipe.Spec3Pipeline.cube_build - INFO - axis#  Naxis  CRPIX    CRVAL      CDELT(arcsec)  Min & Max (xi, eta arcsec)\n",
      "2020-10-29 13:04:18,856 - stpipe.Spec3Pipeline.cube_build - INFO - Axis 1    35  18.00   0.00006629   0.34999999  -6.12499990   6.12499990\n",
      "2020-10-29 13:04:18,857 - stpipe.Spec3Pipeline.cube_build - INFO - Axis 2    29  15.00  -0.00013666   0.34999999  -5.07499991   5.07499991\n",
      "2020-10-29 13:04:18,857 - stpipe.Spec3Pipeline.cube_build - INFO - axis#  Naxis  CRPIX    CRVAL      CDELT(microns)  Min & Max (microns)\n",
      "2020-10-29 13:04:18,858 - stpipe.Spec3Pipeline.cube_build - INFO - Axis 3   741   1.00  23.89299939   0.00600000  23.88999939  28.33599943\n",
      "2020-10-29 13:04:18,859 - stpipe.Spec3Pipeline.cube_build - INFO - Cube covers channel, subchannel: 4, long\n",
      "2020-10-29 13:04:18,859 - stpipe.Spec3Pipeline.cube_build - INFO - Output Name: my_point_source_ch4-long_s3d.fits\n",
      "2020-10-29 13:04:19,187 - stpipe.Spec3Pipeline.cube_build - INFO - # of detector pixels not mapped to output plane: 5021 with wavelength below 23.88699938962236\n",
      "2020-10-29 13:04:19,188 - stpipe.Spec3Pipeline.cube_build - INFO - # of detector pixels not mapped to output plane: 5310 with wavelength above 28.338999428320676\n",
      "2020-10-29 13:04:19,231 - stpipe.Spec3Pipeline.cube_build - INFO - Time to transform pixels to output frame = 0.4 s\n",
      "2020-10-29 13:04:44,024 - stpipe.Spec3Pipeline.cube_build - INFO - Time to set initial dq values = 24.8 s\n",
      "2020-10-29 13:05:57,410 - stpipe.Spec3Pipeline.cube_build - INFO - Time to match file to ifucube = 73.4 s\n",
      "2020-10-29 13:05:57,747 - stpipe.Spec3Pipeline.cube_build - INFO - # of detector pixels not mapped to output plane: 5021 with wavelength below 23.88699938962236\n",
      "2020-10-29 13:05:57,748 - stpipe.Spec3Pipeline.cube_build - INFO - # of detector pixels not mapped to output plane: 5310 with wavelength above 28.338999428320676\n",
      "2020-10-29 13:05:57,798 - stpipe.Spec3Pipeline.cube_build - INFO - Time to transform pixels to output frame = 0.4 s\n",
      "2020-10-29 13:06:22,226 - stpipe.Spec3Pipeline.cube_build - INFO - Time to set initial dq values = 24.4 s\n",
      "2020-10-29 13:07:36,511 - stpipe.Spec3Pipeline.cube_build - INFO - Time to match file to ifucube = 74.3 s\n",
      "2020-10-29 13:07:36,539 - stpipe.Spec3Pipeline.cube_build - INFO - Average # of holes/wavelength plane is < 1\n",
      "2020-10-29 13:07:36,540 - stpipe.Spec3Pipeline.cube_build - INFO - Total # of holes for IFU cube is : 0\n",
      "2020-10-29 13:07:36,541 - stpipe.Spec3Pipeline.cube_build - INFO - Time to find Cube Flux = 0.0 s\n",
      "2020-10-29 13:07:38,399 - stpipe.Spec3Pipeline.cube_build - INFO - IFUChannel 4\n",
      "2020-10-29 13:07:38,430 - stpipe.Spec3Pipeline.cube_build - INFO - Update S_REGION to POLYGON ICRS  0.000908318 -0.000714579 0.000908318 0.000729865 359.999102763 0.000729865 359.999102763 -0.000714579\n",
      "2020-10-29 13:07:38,433 - stpipe.Spec3Pipeline.cube_build - INFO - Update S_REGION to POLYGON ICRS  0.000877317 -0.000722028 0.000877317 0.000650194 359.999143984 0.000650194 359.999143984 -0.000722028\n",
      "2020-10-29 13:07:38,436 - stpipe.Spec3Pipeline.cube_build - INFO - Update S_REGION to POLYGON ICRS  0.000893443 -0.000640661 0.000893443 0.000731561 359.999160110 0.000731561 359.999160110 -0.000640661\n",
      "2020-10-29 13:07:38,439 - stpipe.Spec3Pipeline.cube_build - INFO - Update S_REGION to POLYGON ICRS  0.001044329 -0.000931785 0.001044329 0.000768215 359.998966552 0.000768215 359.998966552 -0.000931785\n",
      "2020-10-29 13:07:38,442 - stpipe.Spec3Pipeline.cube_build - INFO - Update S_REGION to POLYGON ICRS  0.001004848 -0.000998258 0.001004848 0.000701742 359.998927070 0.000701742 359.998927070 -0.000998258\n",
      "2020-10-29 13:07:38,445 - stpipe.Spec3Pipeline.cube_build - INFO - Update S_REGION to POLYGON ICRS  0.001067750 -0.000984137 0.001067750 0.000715863 359.998989972 0.000715863 359.998989972 -0.000984137\n",
      "2020-10-29 13:07:38,447 - stpipe.Spec3Pipeline.cube_build - INFO - Update S_REGION to POLYGON ICRS  0.001194806 -0.001121170 0.001194806 0.001101052 359.998528139 0.001101052 359.998528139 -0.001121170\n",
      "2020-10-29 13:07:38,450 - stpipe.Spec3Pipeline.cube_build - INFO - Update S_REGION to POLYGON ICRS  0.001165213 -0.001189740 0.001165213 0.001032482 359.998609657 0.001032482 359.998609657 -0.001189740\n",
      "2020-10-29 13:07:38,452 - stpipe.Spec3Pipeline.cube_build - INFO - Update S_REGION to POLYGON ICRS  0.001142293 -0.001183670 0.001142293 0.001038553 359.998586738 0.001038553 359.998586738 -0.001183670\n",
      "2020-10-29 13:07:38,455 - stpipe.Spec3Pipeline.cube_build - INFO - Update S_REGION to POLYGON ICRS  0.001715941 -0.001530586 0.001715941 0.001191636 359.998410385 0.001191636 359.998410385 -0.001530586\n",
      "2020-10-29 13:07:38,458 - stpipe.Spec3Pipeline.cube_build - INFO - Update S_REGION to POLYGON ICRS  0.001719308 -0.001512886 0.001719308 0.001209336 359.998413752 0.001209336 359.998413752 -0.001512886\n",
      "2020-10-29 13:07:38,461 - stpipe.Spec3Pipeline.cube_build - INFO - Update S_REGION to POLYGON ICRS  0.001719066 -0.001497769 0.001719066 0.001224454 359.998413510 0.001224454 359.998413510 -0.001497769\n",
      "2020-10-29 13:07:39,200 - stpipe.Spec3Pipeline.cube_build - INFO - Saved model in demo_output/my_point_source_ch1-short_s3d.fits\n",
      "2020-10-29 13:07:39,893 - stpipe.Spec3Pipeline.cube_build - INFO - Saved model in demo_output/my_point_source_ch1-medium_s3d.fits\n",
      "2020-10-29 13:07:41,088 - stpipe.Spec3Pipeline.cube_build - INFO - Saved model in demo_output/my_point_source_ch1-long_s3d.fits\n",
      "2020-10-29 13:07:41,721 - stpipe.Spec3Pipeline.cube_build - INFO - Saved model in demo_output/my_point_source_ch2-short_s3d.fits\n",
      "2020-10-29 13:07:42,367 - stpipe.Spec3Pipeline.cube_build - INFO - Saved model in demo_output/my_point_source_ch2-medium_s3d.fits\n",
      "2020-10-29 13:07:43,024 - stpipe.Spec3Pipeline.cube_build - INFO - Saved model in demo_output/my_point_source_ch2-long_s3d.fits\n",
      "2020-10-29 13:07:43,673 - stpipe.Spec3Pipeline.cube_build - INFO - Saved model in demo_output/my_point_source_ch3-short_s3d.fits\n",
      "2020-10-29 13:07:44,337 - stpipe.Spec3Pipeline.cube_build - INFO - Saved model in demo_output/my_point_source_ch3-medium_s3d.fits\n",
      "2020-10-29 13:07:45,008 - stpipe.Spec3Pipeline.cube_build - INFO - Saved model in demo_output/my_point_source_ch3-long_s3d.fits\n",
      "2020-10-29 13:07:45,626 - stpipe.Spec3Pipeline.cube_build - INFO - Saved model in demo_output/my_point_source_ch4-short_s3d.fits\n",
      "2020-10-29 13:07:46,238 - stpipe.Spec3Pipeline.cube_build - INFO - Saved model in demo_output/my_point_source_ch4-medium_s3d.fits\n",
      "2020-10-29 13:07:46,851 - stpipe.Spec3Pipeline.cube_build - INFO - Saved model in demo_output/my_point_source_ch4-long_s3d.fits\n",
      "2020-10-29 13:07:46,852 - stpipe.Spec3Pipeline.cube_build - INFO - Step cube_build done\n",
      "2020-10-29 13:07:47,248 - stpipe.Spec3Pipeline.extract_1d - INFO - Step extract_1d running with args (<ModelContainer>,).\n",
      "2020-10-29 13:07:47,250 - stpipe.Spec3Pipeline.extract_1d - INFO - Step extract_1d parameters are: {'pre_hooks': [], 'post_hooks': [], 'output_file': None, 'output_dir': None, 'output_ext': '.fits', 'output_use_model': False, 'output_use_index': True, 'save_results': True, 'skip': False, 'suffix': 'x1d', 'search_output_file': False, 'input_dir': '', 'smoothing_length': None, 'bkg_order': None, 'log_increment': 50, 'subtract_background': None, 'use_source_posn': None, 'apply_apcorr': True}\n",
      "2020-10-29 13:07:47,255 - stpipe.Spec3Pipeline.extract_1d - INFO - Using EXTRACT1D reference file /Users/patrickkavanagh/crds_mirror/references/jwst/miri/jwst_miri_extract1d_0003.json\n",
      "2020-10-29 13:07:47,258 - stpipe.Spec3Pipeline.extract_1d - INFO - Using APCORR file /Users/patrickkavanagh/crds_mirror/references/jwst/miri/jwst_miri_apcorr_0006.fits\n",
      "2020-10-29 13:07:47,351 - stpipe.Spec3Pipeline.extract_1d - INFO - Turning on source position correction for exp_type = MIR_MRS\n",
      "2020-10-29 13:07:47,351 - stpipe.Spec3Pipeline.extract_1d - INFO - Setting use_source_posn to False for source type EXTENDED\n",
      "2020-10-29 13:07:47,352 - stpipe.Spec3Pipeline.extract_1d - INFO - Source type = EXTENDED\n",
      "2020-10-29 13:07:49,292 - stpipe.Spec3Pipeline.extract_1d - INFO - Using EXTRACT1D reference file /Users/patrickkavanagh/crds_mirror/references/jwst/miri/jwst_miri_extract1d_0003.json\n"
     ]
    },
    {
     "name": "stderr",
     "output_type": "stream",
     "text": [
      "2020-10-29 13:07:49,294 - stpipe.Spec3Pipeline.extract_1d - INFO - Using APCORR file /Users/patrickkavanagh/crds_mirror/references/jwst/miri/jwst_miri_apcorr_0006.fits\n",
      "2020-10-29 13:07:49,334 - stpipe.Spec3Pipeline.extract_1d - INFO - Turning on source position correction for exp_type = MIR_MRS\n",
      "2020-10-29 13:07:49,334 - stpipe.Spec3Pipeline.extract_1d - INFO - Setting use_source_posn to False for source type EXTENDED\n",
      "2020-10-29 13:07:49,335 - stpipe.Spec3Pipeline.extract_1d - INFO - Source type = EXTENDED\n"
     ]
    },
    {
     "name": "stdout",
     "output_type": "stream",
     "text": [
      "False 3.9721757086029103e-13\n"
     ]
    },
    {
     "name": "stderr",
     "output_type": "stream",
     "text": [
      "2020-10-29 13:07:51,536 - stpipe.Spec3Pipeline.extract_1d - INFO - Using EXTRACT1D reference file /Users/patrickkavanagh/crds_mirror/references/jwst/miri/jwst_miri_extract1d_0003.json\n",
      "2020-10-29 13:07:51,539 - stpipe.Spec3Pipeline.extract_1d - INFO - Using APCORR file /Users/patrickkavanagh/crds_mirror/references/jwst/miri/jwst_miri_apcorr_0006.fits\n",
      "2020-10-29 13:07:51,578 - stpipe.Spec3Pipeline.extract_1d - INFO - Turning on source position correction for exp_type = MIR_MRS\n",
      "2020-10-29 13:07:51,579 - stpipe.Spec3Pipeline.extract_1d - INFO - Setting use_source_posn to False for source type EXTENDED\n",
      "2020-10-29 13:07:51,579 - stpipe.Spec3Pipeline.extract_1d - INFO - Source type = EXTENDED\n"
     ]
    },
    {
     "name": "stdout",
     "output_type": "stream",
     "text": [
      "False 3.9721757086029103e-13\n"
     ]
    },
    {
     "name": "stderr",
     "output_type": "stream",
     "text": [
      "2020-10-29 13:07:54,060 - stpipe.Spec3Pipeline.extract_1d - INFO - Using EXTRACT1D reference file /Users/patrickkavanagh/crds_mirror/references/jwst/miri/jwst_miri_extract1d_0003.json\n",
      "2020-10-29 13:07:54,062 - stpipe.Spec3Pipeline.extract_1d - INFO - Using APCORR file /Users/patrickkavanagh/crds_mirror/references/jwst/miri/jwst_miri_apcorr_0006.fits\n",
      "2020-10-29 13:07:54,104 - stpipe.Spec3Pipeline.extract_1d - INFO - Turning on source position correction for exp_type = MIR_MRS\n",
      "2020-10-29 13:07:54,105 - stpipe.Spec3Pipeline.extract_1d - INFO - Setting use_source_posn to False for source type EXTENDED\n",
      "2020-10-29 13:07:54,105 - stpipe.Spec3Pipeline.extract_1d - INFO - Source type = EXTENDED\n"
     ]
    },
    {
     "name": "stdout",
     "output_type": "stream",
     "text": [
      "False 3.9721757086029103e-13\n"
     ]
    },
    {
     "name": "stderr",
     "output_type": "stream",
     "text": [
      "2020-10-29 13:07:55,559 - stpipe.Spec3Pipeline.extract_1d - INFO - Using EXTRACT1D reference file /Users/patrickkavanagh/crds_mirror/references/jwst/miri/jwst_miri_extract1d_0003.json\n",
      "2020-10-29 13:07:55,562 - stpipe.Spec3Pipeline.extract_1d - INFO - Using APCORR file /Users/patrickkavanagh/crds_mirror/references/jwst/miri/jwst_miri_apcorr_0006.fits\n",
      "2020-10-29 13:07:55,602 - stpipe.Spec3Pipeline.extract_1d - INFO - Turning on source position correction for exp_type = MIR_MRS\n",
      "2020-10-29 13:07:55,602 - stpipe.Spec3Pipeline.extract_1d - INFO - Setting use_source_posn to False for source type EXTENDED\n",
      "2020-10-29 13:07:55,603 - stpipe.Spec3Pipeline.extract_1d - INFO - Source type = EXTENDED\n"
     ]
    },
    {
     "name": "stdout",
     "output_type": "stream",
     "text": [
      "False 6.792656142896652e-13\n"
     ]
    },
    {
     "name": "stderr",
     "output_type": "stream",
     "text": [
      "2020-10-29 13:07:57,266 - stpipe.Spec3Pipeline.extract_1d - INFO - Using EXTRACT1D reference file /Users/patrickkavanagh/crds_mirror/references/jwst/miri/jwst_miri_extract1d_0003.json\n",
      "2020-10-29 13:07:57,268 - stpipe.Spec3Pipeline.extract_1d - INFO - Using APCORR file /Users/patrickkavanagh/crds_mirror/references/jwst/miri/jwst_miri_apcorr_0006.fits\n",
      "2020-10-29 13:07:57,307 - stpipe.Spec3Pipeline.extract_1d - INFO - Turning on source position correction for exp_type = MIR_MRS\n",
      "2020-10-29 13:07:57,308 - stpipe.Spec3Pipeline.extract_1d - INFO - Setting use_source_posn to False for source type EXTENDED\n",
      "2020-10-29 13:07:57,309 - stpipe.Spec3Pipeline.extract_1d - INFO - Source type = EXTENDED\n"
     ]
    },
    {
     "name": "stdout",
     "output_type": "stream",
     "text": [
      "False 6.792656142896652e-13\n"
     ]
    },
    {
     "name": "stderr",
     "output_type": "stream",
     "text": [
      "2020-10-29 13:07:59,244 - stpipe.Spec3Pipeline.extract_1d - INFO - Using EXTRACT1D reference file /Users/patrickkavanagh/crds_mirror/references/jwst/miri/jwst_miri_extract1d_0003.json\n",
      "2020-10-29 13:07:59,247 - stpipe.Spec3Pipeline.extract_1d - INFO - Using APCORR file /Users/patrickkavanagh/crds_mirror/references/jwst/miri/jwst_miri_apcorr_0006.fits\n",
      "2020-10-29 13:07:59,285 - stpipe.Spec3Pipeline.extract_1d - INFO - Turning on source position correction for exp_type = MIR_MRS\n",
      "2020-10-29 13:07:59,286 - stpipe.Spec3Pipeline.extract_1d - INFO - Setting use_source_posn to False for source type EXTENDED\n",
      "2020-10-29 13:07:59,286 - stpipe.Spec3Pipeline.extract_1d - INFO - Source type = EXTENDED\n"
     ]
    },
    {
     "name": "stdout",
     "output_type": "stream",
     "text": [
      "False 6.792656142896652e-13\n"
     ]
    },
    {
     "name": "stderr",
     "output_type": "stream",
     "text": [
      "2020-10-29 13:08:00,766 - stpipe.Spec3Pipeline.extract_1d - INFO - Using EXTRACT1D reference file /Users/patrickkavanagh/crds_mirror/references/jwst/miri/jwst_miri_extract1d_0003.json\n",
      "2020-10-29 13:08:00,768 - stpipe.Spec3Pipeline.extract_1d - INFO - Using APCORR file /Users/patrickkavanagh/crds_mirror/references/jwst/miri/jwst_miri_apcorr_0006.fits\n",
      "2020-10-29 13:08:00,804 - stpipe.Spec3Pipeline.extract_1d - INFO - Turning on source position correction for exp_type = MIR_MRS\n",
      "2020-10-29 13:08:00,805 - stpipe.Spec3Pipeline.extract_1d - INFO - Setting use_source_posn to False for source type EXTENDED\n",
      "2020-10-29 13:08:00,806 - stpipe.Spec3Pipeline.extract_1d - INFO - Source type = EXTENDED\n"
     ]
    },
    {
     "name": "stdout",
     "output_type": "stream",
     "text": [
      "False 9.401600280189515e-13\n"
     ]
    },
    {
     "name": "stderr",
     "output_type": "stream",
     "text": [
      "2020-10-29 13:08:02,489 - stpipe.Spec3Pipeline.extract_1d - INFO - Using EXTRACT1D reference file /Users/patrickkavanagh/crds_mirror/references/jwst/miri/jwst_miri_extract1d_0003.json\n",
      "2020-10-29 13:08:02,491 - stpipe.Spec3Pipeline.extract_1d - INFO - Using APCORR file /Users/patrickkavanagh/crds_mirror/references/jwst/miri/jwst_miri_apcorr_0006.fits\n",
      "2020-10-29 13:08:02,528 - stpipe.Spec3Pipeline.extract_1d - INFO - Turning on source position correction for exp_type = MIR_MRS\n",
      "2020-10-29 13:08:02,529 - stpipe.Spec3Pipeline.extract_1d - INFO - Setting use_source_posn to False for source type EXTENDED\n",
      "2020-10-29 13:08:02,530 - stpipe.Spec3Pipeline.extract_1d - INFO - Source type = EXTENDED\n"
     ]
    },
    {
     "name": "stdout",
     "output_type": "stream",
     "text": [
      "False 9.401600280189515e-13\n"
     ]
    },
    {
     "name": "stderr",
     "output_type": "stream",
     "text": [
      "2020-10-29 13:08:04,481 - stpipe.Spec3Pipeline.extract_1d - INFO - Using EXTRACT1D reference file /Users/patrickkavanagh/crds_mirror/references/jwst/miri/jwst_miri_extract1d_0003.json\n",
      "2020-10-29 13:08:04,484 - stpipe.Spec3Pipeline.extract_1d - INFO - Using APCORR file /Users/patrickkavanagh/crds_mirror/references/jwst/miri/jwst_miri_apcorr_0006.fits\n",
      "2020-10-29 13:08:04,520 - stpipe.Spec3Pipeline.extract_1d - INFO - Turning on source position correction for exp_type = MIR_MRS\n",
      "2020-10-29 13:08:04,521 - stpipe.Spec3Pipeline.extract_1d - INFO - Setting use_source_posn to False for source type EXTENDED\n",
      "2020-10-29 13:08:04,521 - stpipe.Spec3Pipeline.extract_1d - INFO - Source type = EXTENDED\n"
     ]
    },
    {
     "name": "stdout",
     "output_type": "stream",
     "text": [
      "False 9.401600280189515e-13\n"
     ]
    },
    {
     "name": "stderr",
     "output_type": "stream",
     "text": [
      "2020-10-29 13:08:05,545 - stpipe.Spec3Pipeline.extract_1d - INFO - Using EXTRACT1D reference file /Users/patrickkavanagh/crds_mirror/references/jwst/miri/jwst_miri_extract1d_0003.json\n",
      "2020-10-29 13:08:05,548 - stpipe.Spec3Pipeline.extract_1d - INFO - Using APCORR file /Users/patrickkavanagh/crds_mirror/references/jwst/miri/jwst_miri_apcorr_0006.fits\n",
      "2020-10-29 13:08:05,587 - stpipe.Spec3Pipeline.extract_1d - INFO - Turning on source position correction for exp_type = MIR_MRS\n",
      "2020-10-29 13:08:05,588 - stpipe.Spec3Pipeline.extract_1d - INFO - Setting use_source_posn to False for source type EXTENDED\n",
      "2020-10-29 13:08:05,589 - stpipe.Spec3Pipeline.extract_1d - INFO - Source type = EXTENDED\n"
     ]
    },
    {
     "name": "stdout",
     "output_type": "stream",
     "text": [
      "False 2.8792399019336705e-12\n"
     ]
    },
    {
     "name": "stderr",
     "output_type": "stream",
     "text": [
      "2020-10-29 13:08:06,776 - stpipe.Spec3Pipeline.extract_1d - INFO - Using EXTRACT1D reference file /Users/patrickkavanagh/crds_mirror/references/jwst/miri/jwst_miri_extract1d_0003.json\n",
      "2020-10-29 13:08:06,779 - stpipe.Spec3Pipeline.extract_1d - INFO - Using APCORR file /Users/patrickkavanagh/crds_mirror/references/jwst/miri/jwst_miri_apcorr_0006.fits\n",
      "2020-10-29 13:08:06,817 - stpipe.Spec3Pipeline.extract_1d - INFO - Turning on source position correction for exp_type = MIR_MRS\n",
      "2020-10-29 13:08:06,818 - stpipe.Spec3Pipeline.extract_1d - INFO - Setting use_source_posn to False for source type EXTENDED\n",
      "2020-10-29 13:08:06,819 - stpipe.Spec3Pipeline.extract_1d - INFO - Source type = EXTENDED\n"
     ]
    },
    {
     "name": "stdout",
     "output_type": "stream",
     "text": [
      "False 2.8792399019336705e-12\n"
     ]
    },
    {
     "name": "stderr",
     "output_type": "stream",
     "text": [
      "2020-10-29 13:08:08,318 - stpipe.Spec3Pipeline.extract_1d - INFO - Saved model in demo_output/my_point_source_ch1-short_x1d.fits\n"
     ]
    },
    {
     "name": "stdout",
     "output_type": "stream",
     "text": [
      "False 2.8792399019336705e-12\n"
     ]
    },
    {
     "name": "stderr",
     "output_type": "stream",
     "text": [
      "2020-10-29 13:08:08,412 - stpipe.Spec3Pipeline.extract_1d - INFO - Saved model in demo_output/my_point_source_ch1-medium_x1d.fits\n",
      "2020-10-29 13:08:08,501 - stpipe.Spec3Pipeline.extract_1d - INFO - Saved model in demo_output/my_point_source_ch1-long_x1d.fits\n",
      "2020-10-29 13:08:08,592 - stpipe.Spec3Pipeline.extract_1d - INFO - Saved model in demo_output/my_point_source_ch2-short_x1d.fits\n",
      "2020-10-29 13:08:08,681 - stpipe.Spec3Pipeline.extract_1d - INFO - Saved model in demo_output/my_point_source_ch2-medium_x1d.fits\n",
      "2020-10-29 13:08:08,771 - stpipe.Spec3Pipeline.extract_1d - INFO - Saved model in demo_output/my_point_source_ch2-long_x1d.fits\n",
      "2020-10-29 13:08:08,860 - stpipe.Spec3Pipeline.extract_1d - INFO - Saved model in demo_output/my_point_source_ch3-short_x1d.fits\n",
      "2020-10-29 13:08:08,953 - stpipe.Spec3Pipeline.extract_1d - INFO - Saved model in demo_output/my_point_source_ch3-medium_x1d.fits\n",
      "2020-10-29 13:08:09,045 - stpipe.Spec3Pipeline.extract_1d - INFO - Saved model in demo_output/my_point_source_ch3-long_x1d.fits\n",
      "2020-10-29 13:08:09,133 - stpipe.Spec3Pipeline.extract_1d - INFO - Saved model in demo_output/my_point_source_ch4-short_x1d.fits\n",
      "2020-10-29 13:08:09,221 - stpipe.Spec3Pipeline.extract_1d - INFO - Saved model in demo_output/my_point_source_ch4-medium_x1d.fits\n",
      "2020-10-29 13:08:09,313 - stpipe.Spec3Pipeline.extract_1d - INFO - Saved model in demo_output/my_point_source_ch4-long_x1d.fits\n",
      "2020-10-29 13:08:09,313 - stpipe.Spec3Pipeline.extract_1d - INFO - Step extract_1d done\n",
      "2020-10-29 13:08:09,323 - stpipe.Spec3Pipeline - INFO - Ending calwebb_spec3\n",
      "2020-10-29 13:08:09,324 - stpipe.Spec3Pipeline - INFO - Step Spec3Pipeline done\n"
     ]
    }
   ],
   "source": [
    "# user specified\n",
    "my_output_dir = 'demo_output'\n",
    "\n",
    "# the output directory should be created if it doesn't exist\n",
    "if not os.path.exists(my_output_dir): \n",
    "    os.mkdir(my_output_dir)\n",
    "\n",
    "# run the pipeline\n",
    "Spec3Pipeline.call(asn_file, save_results=True, output_dir=my_output_dir, \n",
    "                   steps={'master_background': {'skip': True},\n",
    "                          'outlier_detection': {'skip': True},\n",
    "                          'mrs_imatch': {'skip': True}})\n"
   ]
  },
  {
   "cell_type": "markdown",
   "metadata": {},
   "source": [
    "We can plot the combined cubes in each MRS sub-band"
   ]
  },
  {
   "cell_type": "code",
   "execution_count": 10,
   "metadata": {},
   "outputs": [
    {
     "data": {
      "image/png": "[encoded data removed]",
      "text/plain": [
       "<Figure size 864x864 with 12 Axes>"
      ]
     },
     "metadata": {
      "needs_background": "light"
     },
     "output_type": "display_data"
    }
   ],
   "source": [
    "cube_files = glob.glob(os.path.join(my_output_dir, '*s3d.fits'))\n",
    "cube_files = sorted(cube_files)\n",
    "\n",
    "fig, axs = plt.subplots(4, 3, figsize=(12, 12))\n",
    "axs = axs.ravel()\n",
    "\n",
    "for n, c in enumerate(cube_files):\n",
    "    cdm = datamodels.open(c)\n",
    "    axs[n].imshow(np.sum(cdm.data[200:-200], axis=0), cmap='jet', interpolation='nearest', \n",
    "                  origin='lower', norm=LogNorm())\n",
    "    axs[n].set_facecolor('black')\n",
    "    \n",
    "plt.tight_layout()\n",
    "plt.show()"
   ]
  },
  {
   "cell_type": "markdown",
   "metadata": {},
   "source": [
    "Since we have set the source type to 'POINT' above, the extract_1d step will use an aperture extraction and subtract a background with default values. The aperture centre is at pixel x/2, y/2, the radius is y/4, and the background annulus is from the radius to the radius*sqrt(2). In the future, more advanced extraction methods are planned. One can set also the aperture properties using a custom aperture reference file. Please contact pkavanagh@cp.dias.ie if you want to do this."
   ]
  },
  {
   "cell_type": "markdown",
   "metadata": {},
   "source": [
    "We can also plot the spectra. Note that an additional aperture correction factor for the encircled energy in the aperture should also be applied but we forego this here since the CDPs are currently not available."
   ]
  },
  {
   "cell_type": "code",
   "execution_count": 7,
   "metadata": {},
   "outputs": [
    {
     "data": {
      "image/png": "[encoded data removed]",
      "text/plain": [
       "<Figure size 864x504 with 1 Axes>"
      ]
     },
     "metadata": {
      "needs_background": "light"
     },
     "output_type": "display_data"
    }
   ],
   "source": [
    "spec_files = glob.glob(os.path.join(my_output_dir, '*1d.fits'))\n",
    "spec_files = sorted(spec_files)\n",
    "\n",
    "fig, axs = plt.subplots(1, 1, figsize=(12, 7))\n",
    "plt.rc('axes', prop_cycle=(cycler('color', ['r', 'g', 'b', 'm', 'c', 'y'])))\n",
    "\n",
    "for n, s in enumerate(spec_files):\n",
    "    sdm = datamodels.open(s)\n",
    "    axs.plot(sdm.spec[0].spec_table['WAVELENGTH'][20:-20],\n",
    "                sdm.spec[0].spec_table['FLUX'][20:-20], marker='.', markersize=0,\n",
    "                linestyle='-', linewidth=1)\n",
    "\n",
    "axs.set_ylabel(r'Flux (Jy)', fontsize=22)\n",
    "axs.set_ylim(0, 2)\n",
    "axs.set_xlim(5, 25)\n",
    "\n",
    "axs.set_xlabel('micron', fontsize=22)\n",
    "axs.grid()\n",
    "\n",
    "plt.tight_layout()\n",
    "plt.show()"
   ]
  },
  {
   "cell_type": "markdown",
   "metadata": {},
   "source": [
    "### Command line\n",
    "\n",
    "To achieve the same result from the command line there are a couple of options. However, one must still generate the association file. In this case, it is best to copy the template above into a text file and save it to `my_point_source_lvl3_asn.json`. The content is printed here for convenience."
   ]
  },
  {
   "cell_type": "markdown",
   "metadata": {},
   "source": [
    "```python\n",
    "{\n",
    "    \"asn_type\": \"spec3\",\n",
    "    \"asn_rule\": \"DMS_Level3_Base\",\n",
    "    \"version_id\": null,\n",
    "    \"code_version\": \"0.13.7\",\n",
    "    \"degraded_status\": \"No known degraded exposures in association.\",\n",
    "    \"program\": \"noprogram\",\n",
    "    \"constraints\": \"No constraints\",\n",
    "    \"asn_id\": \"a3001\",\n",
    "    \"target\": \"none\",\n",
    "    \"asn_pool\": \"my_point_source_pool\",\n",
    "    \"products\": [\n",
    "        {\n",
    "            \"name\": \"my_point_source\",\n",
    "            \"members\": [\n",
    "                {\n",
    "                    \"expname\": \"MRS_science/my_point_source_exposure10_photom.fits\",\n",
    "                    \"exptype\": \"science\"\n",
    "                },\n",
    "                {\n",
    "                    \"expname\": \"MRS_science/my_point_source_exposure11_photom.fits\",\n",
    "                    \"exptype\": \"science\"\n",
    "                },\n",
    "                {\n",
    "                    \"expname\": \"MRS_science/my_point_source_exposure12_photom.fits\",\n",
    "                    \"exptype\": \"science\"\n",
    "                },\n",
    "                {\n",
    "                    \"expname\": \"MRS_science/my_point_source_exposure1_photom.fits\",\n",
    "                    \"exptype\": \"science\"\n",
    "                },\n",
    "                {\n",
    "                    \"expname\": \"MRS_science/my_point_source_exposure2_photom.fits\",\n",
    "                    \"exptype\": \"science\"\n",
    "                },\n",
    "                {\n",
    "                    \"expname\": \"MRS_science/my_point_source_exposure3_photom.fits\",\n",
    "                    \"exptype\": \"science\"\n",
    "                },\n",
    "                {\n",
    "                    \"expname\": \"MRS_science/my_point_source_exposure4_photom.fits\",\n",
    "                    \"exptype\": \"science\"\n",
    "                },\n",
    "                {\n",
    "                    \"expname\": \"MRS_science/my_point_source_exposure5_photom.fits\",\n",
    "                    \"exptype\": \"science\"\n",
    "                },\n",
    "                {\n",
    "                    \"expname\": \"MRS_science/my_point_source_exposure6_photom.fits\",\n",
    "                    \"exptype\": \"science\"\n",
    "                },\n",
    "                {\n",
    "                    \"expname\": \"MRS_science/my_point_source_exposure7_photom.fits\",\n",
    "                    \"exptype\": \"science\"\n",
    "                },\n",
    "                {\n",
    "                    \"expname\": \"MRS_science/my_point_source_exposure8_photom.fits\",\n",
    "                    \"exptype\": \"science\"\n",
    "                },\n",
    "                {\n",
    "                    \"expname\": \"MRS_science/my_point_source_exposure9_photom.fits\",\n",
    "                    \"exptype\": \"science\"\n",
    "                }\n",
    "            ]\n",
    "        }\n",
    "    ]\n",
    "}\n",
    "```"
   ]
  },
  {
   "cell_type": "markdown",
   "metadata": {},
   "source": [
    "**Option 1:**\n",
    "Run the `Spec3Pipeline` class using the `strun` command:\n",
    "\n",
    "```bash\n",
    "mkdir demo_output\n",
    "\n",
    "strun jwst.pipeline.Spec3Pipeline my_point_source_lvl3_asn.json --output_dir demo_output --steps.master_background.skip True --steps.outlier_detection.skip True --steps.mrs_imatch.skip True \n",
    "```\n",
    "\n",
    "This will produce the same output file in the user-defined `--output_dir`\n",
    "\n",
    "\n",
    "**Option 2:**\n",
    "Collect the pipeline configuration files in your working directory (if they are not already there) using `collect_pipeline_configs` and then run the `Spec3Pipeline` using the `strun` command with the associated `calwebb_spec3.cfg` file. This option is a little more flexible as one can create edit the cfg files, use them again, etc.\n",
    "\n",
    "```bash\n",
    "mkdir demo_output\n",
    "\n",
    "collect_pipeline_cfgs cfgs/\n",
    "\n",
    "strun cfgs/calwebb_spec3.cfg my_point_source_lvl3_asn.json --output_dir demo_output --steps.master_background.skip True --steps.outlier_detection.skip True --steps.mrs_imatch.skip True\n",
    "```\n",
    "\n",
    "This will produce the same output file in the user-defined `--output_dir`"
   ]
  },
  {
   "cell_type": "markdown",
   "metadata": {},
   "source": [
    "## Further examples\n",
    "\n",
    "Other notebooks with more complex examples can be found here:\n",
    "\n",
    "*To be added*"
   ]
  },
  {
   "cell_type": "code",
   "execution_count": null,
   "metadata": {},
   "outputs": [],
   "source": []
  }
 ],
 "metadata": {
  "kernelspec": {
   "display_name": "Python 3",
   "language": "python",
   "name": "python3"
  },
  "language_info": {
   "codemirror_mode": {
    "name": "ipython",
    "version": 3
   },
   "file_extension": ".py",
   "mimetype": "text/x-python",
   "name": "python",
   "nbconvert_exporter": "python",
   "pygments_lexer": "ipython3",
   "version": "3.8.5"
  }
 },
 "nbformat": 4,
 "nbformat_minor": 2
}

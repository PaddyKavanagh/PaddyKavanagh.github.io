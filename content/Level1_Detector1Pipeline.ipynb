{
 "cells": [
  {
   "cell_type": "markdown",
   "metadata": {},
   "source": [
    "## Ramps-to-slopes:  Detector1Pipeline   (MIRI CALDETECTOR1)\n",
    "\n",
    "The `Detector1Pipeline` takes DMS Level 1B data and applies basic detector-level corrections to all exposure types. It is applied to one exposure at a time. It is sometimes referred to as “ramps-to-slopes” processing, because the input raw data are in the form of one or more ramps (integrations) containing accumulating counts from the non-destructive detector readouts and the output is a corrected countrate (slope) image.\n",
    "\n",
    "Official documentation for `Detector1Pipeline` can be found here:\n",
    "\n",
    "<https://jwst-pipeline.readthedocs.io/en/latest/jwst/pipeline/calwebb_detector1.html>\n",
    "\n",
    "The `Detector1Pipelin`e comprises a linear series of steps to first calibrate the pixel ramps, detect cosmic ray jumps, and fit a linear function to the calibrate ramps to produce a slope or DMS Level 2A image. The steps applied to MIRI data in order are:\n",
    "\n",
    "|Step|Description|\n",
    "|:---|:---|\n",
    "|`dq_init`|populates the DQ mask for the input dataset|\n",
    "|`saturation`|flags saturated pixel values|\n",
    "|`firstframe`|flags the first group in every integration as bad|\n",
    "|`lastframe`|flags the last group in every integration as bad|\n",
    "|`linearity`|corrects for detector non-linearity|\n",
    "|`rscd`|correct for the reset switch charge decay|\n",
    "|`dark_current`|subtracts dark current data|\n",
    "|`refpix`|corrects for pixel drifts using the reference pixels|\n",
    "|`jump`|detects jumps in the ramps by looking for outliers in each integration|\n",
    "|`ramp_fit`|determines count rate for each pixel by performing a linear fit to ramps|\n",
    "\n",
    "For more information and examples of each of the steps click on the links in the side bar."
   ]
  },
  {
   "cell_type": "markdown",
   "metadata": {},
   "source": [
    "### Input data\n",
    "\n",
    "An example of running the file through the Detector1Pipeline is now shown. The file is a simple simulated observation of a point source with the F1130W filter produced with [MIRISim v2.1](http://miri.ster.kuleuven.be/bin/view/Public/MIRISimPublicRelease2dot1)."
   ]
  },
  {
   "cell_type": "markdown",
   "metadata": {},
   "source": [
    "### Python\n",
    "\n",
    "Start by importing what will be used, disable warnings and set the `CRDS_CONTEXT` to use"
   ]
  },
  {
   "cell_type": "code",
   "execution_count": 1,
   "metadata": {},
   "outputs": [],
   "source": [
    "# imports\n",
    "import os, glob, shutil\n",
    "import numpy as np\n",
    "from matplotlib.colors import LogNorm\n",
    "import matplotlib.pyplot as plt\n",
    "from subprocess import call\n",
    "from jwst import datamodels\n",
    "\n",
    "import warnings\n",
    "warnings.filterwarnings('ignore')\n",
    "\n",
    "# set the CRDS_CONTEXT\n",
    "os.environ[\"CRDS_CONTEXT\"] = \"jwst_0535.pmap\""
   ]
  },
  {
   "cell_type": "markdown",
   "metadata": {},
   "source": [
    "Import Detector1Pipeline and print the docstring to show some information"
   ]
  },
  {
   "cell_type": "code",
   "execution_count": 2,
   "metadata": {},
   "outputs": [
    {
     "name": "stdout",
     "output_type": "stream",
     "text": [
      "\n",
      "    Detector1Pipeline: Apply all calibration steps to raw JWST\n",
      "    ramps to produce a 2-D slope product. Included steps are:\n",
      "    group_scale, dq_init, saturation, ipc, superbias, refpix, rscd,\n",
      "    lastframe, linearity, dark_current, persistence, jump detection,\n",
      "    ramp_fit, and gain_scale.\n",
      "    \n"
     ]
    }
   ],
   "source": [
    "from jwst.pipeline import Detector1Pipeline\n",
    "print(Detector1Pipeline.__doc__)"
   ]
  },
  {
   "cell_type": "markdown",
   "metadata": {},
   "source": [
    "Set the name of the input fil, where the output should be saved and run the pipeline. The output level 2A files will be saved in my_output_dir as `_rate.fits`. Note that we must explicitly skip the IPC step when running from Python. This is achieved by passing the `skip` parameter to the step in a Python `dict`.\n",
    "\n",
    "*Parameters used:*\n",
    "\n",
    "`output_use_model` : boolean, optional, default=False  \n",
    "&nbsp;&nbsp;&nbsp;&nbsp; propagate the input filename to the output\n",
    "    \n",
    "`save_results`: boolean, optional, default=False  \n",
    "&nbsp;&nbsp;&nbsp;&nbsp; save the results to file\n",
    "    \n",
    "`output_dir` : boolean, optional, default is the working directory   \n",
    "&nbsp;&nbsp;&nbsp;&nbsp; the location to save the output\n",
    "    \n",
    "`steps` : dict, optional  \n",
    "&nbsp;&nbsp;&nbsp;&nbsp; dict of user-defined parameters for individual steps  \n",
    "\n",
    "Note that the Detector1Pipeline will return the rate datamodel so we set this to the `dm` variable.\n"
   ]
  },
  {
   "cell_type": "code",
   "execution_count": null,
   "metadata": {},
   "outputs": [
    {
     "name": "stderr",
     "output_type": "stream",
     "text": [
      "2019-07-01 15:50:37,345 - stpipe.Detector1Pipeline - INFO - Detector1Pipeline instance created.\n",
      "2019-07-01 15:50:37,347 - stpipe.Detector1Pipeline.group_scale - INFO - GroupScaleStep instance created.\n",
      "2019-07-01 15:50:37,349 - stpipe.Detector1Pipeline.dq_init - INFO - DQInitStep instance created.\n",
      "2019-07-01 15:50:37,351 - stpipe.Detector1Pipeline.saturation - INFO - SaturationStep instance created.\n",
      "2019-07-01 15:50:37,352 - stpipe.Detector1Pipeline.ipc - INFO - IPCStep instance created.\n",
      "2019-07-01 15:50:37,354 - stpipe.Detector1Pipeline.superbias - INFO - SuperBiasStep instance created.\n",
      "2019-07-01 15:50:37,356 - stpipe.Detector1Pipeline.refpix - INFO - RefPixStep instance created.\n",
      "2019-07-01 15:50:37,358 - stpipe.Detector1Pipeline.rscd - INFO - RSCD_Step instance created.\n",
      "2019-07-01 15:50:37,361 - stpipe.Detector1Pipeline.firstframe - INFO - FirstFrameStep instance created.\n",
      "2019-07-01 15:50:37,363 - stpipe.Detector1Pipeline.lastframe - INFO - LastFrameStep instance created.\n",
      "2019-07-01 15:50:37,368 - stpipe.Detector1Pipeline.linearity - INFO - LinearityStep instance created.\n",
      "2019-07-01 15:50:37,371 - stpipe.Detector1Pipeline.dark_current - INFO - DarkCurrentStep instance created.\n",
      "2019-07-01 15:50:37,374 - stpipe.Detector1Pipeline.persistence - INFO - PersistenceStep instance created.\n",
      "2019-07-01 15:50:37,376 - stpipe.Detector1Pipeline.jump - INFO - JumpStep instance created.\n",
      "2019-07-01 15:50:37,377 - stpipe.Detector1Pipeline.ramp_fit - INFO - RampFitStep instance created.\n",
      "2019-07-01 15:50:37,379 - stpipe.Detector1Pipeline.gain_scale - INFO - GainScaleStep instance created.\n",
      "2019-07-01 15:50:37,455 - stpipe.Detector1Pipeline - INFO - Step Detector1Pipeline running with args ('det_image_seq1_MIRIMAGE_F1130Wexp1.fits',).\n",
      "2019-07-01 15:50:38,145 - stpipe.Detector1Pipeline - INFO - Prefetching reference files for dataset: 'det_image_seq1_MIRIMAGE_F1130Wexp1.fits' reftypes = ['dark', 'gain', 'linearity', 'mask', 'persat', 'readnoise', 'refpix', 'rscd', 'saturation', 'superbias', 'trapdensity', 'trappars']\n",
      "2019-07-01 15:50:41,966 - CRDS - INFO -  Fetching  /Users/patrickkavanagh/crds_mirror/mappings/jwst/jwst_system_calver_0019.rmap    1.9 K bytes  (1 / 34 files) (0 / 145.8 K bytes)\n",
      "2019-07-01 15:50:42,530 - CRDS - INFO -  Fetching  /Users/patrickkavanagh/crds_mirror/mappings/jwst/jwst_system_0018.imap      385 bytes  (2 / 34 files) (1.9 K / 145.8 K bytes)\n",
      "2019-07-01 15:50:43,092 - CRDS - INFO -  Fetching  /Users/patrickkavanagh/crds_mirror/mappings/jwst/jwst_nirspec_superbias_0034.rmap   12.2 K bytes  (3 / 34 files) (2.3 K / 145.8 K bytes)\n",
      "2019-07-01 15:50:43,658 - CRDS - INFO -  Fetching  /Users/patrickkavanagh/crds_mirror/mappings/jwst/jwst_nirspec_saturation_0017.rmap    2.0 K bytes  (4 / 34 files) (14.5 K / 145.8 K bytes)\n",
      "2019-07-01 15:50:44,186 - CRDS - INFO -  Fetching  /Users/patrickkavanagh/crds_mirror/mappings/jwst/jwst_nirspec_readnoise_0014.rmap    1.8 K bytes  (5 / 34 files) (16.5 K / 145.8 K bytes)\n",
      "2019-07-01 15:50:44,720 - CRDS - INFO -  Fetching  /Users/patrickkavanagh/crds_mirror/mappings/jwst/jwst_nirspec_linearity_0017.rmap    1.6 K bytes  (6 / 34 files) (18.3 K / 145.8 K bytes)\n",
      "2019-07-01 15:50:45,272 - CRDS - INFO -  Fetching  /Users/patrickkavanagh/crds_mirror/mappings/jwst/jwst_nirspec_gain_0019.rmap    1.8 K bytes  (7 / 34 files) (19.8 K / 145.8 K bytes)\n",
      "2019-07-01 15:50:45,811 - CRDS - INFO -  Fetching  /Users/patrickkavanagh/crds_mirror/mappings/jwst/jwst_nirspec_dark_0027.rmap   11.2 K bytes  (8 / 34 files) (21.6 K / 145.8 K bytes)\n",
      "2019-07-01 15:50:46,357 - CRDS - INFO -  Fetching  /Users/patrickkavanagh/crds_mirror/mappings/jwst/jwst_nirspec_area_0012.rmap    4.5 K bytes  (9 / 34 files) (32.8 K / 145.8 K bytes)\n",
      "2019-07-01 15:50:46,915 - CRDS - INFO -  Fetching  /Users/patrickkavanagh/crds_mirror/mappings/jwst/jwst_nirspec_0189.imap    2.3 K bytes  (10 / 34 files) (37.3 K / 145.8 K bytes)\n",
      "2019-07-01 15:50:47,442 - CRDS - INFO -  Fetching  /Users/patrickkavanagh/crds_mirror/mappings/jwst/jwst_niriss_photom_0021.rmap      765 bytes  (11 / 34 files) (39.6 K / 145.8 K bytes)\n",
      "2019-07-01 15:50:47,994 - CRDS - INFO -  Fetching  /Users/patrickkavanagh/crds_mirror/mappings/jwst/jwst_niriss_mask_0016.rmap      735 bytes  (12 / 34 files) (40.4 K / 145.8 K bytes)\n",
      "2019-07-01 15:50:48,518 - CRDS - INFO -  Fetching  /Users/patrickkavanagh/crds_mirror/mappings/jwst/jwst_niriss_0118.imap    2.0 K bytes  (13 / 34 files) (41.1 K / 145.8 K bytes)\n",
      "2019-07-01 15:50:49,044 - CRDS - INFO -  Fetching  /Users/patrickkavanagh/crds_mirror/mappings/jwst/jwst_nircam_psfmask_0003.rmap   10.4 K bytes  (14 / 34 files) (43.2 K / 145.8 K bytes)\n",
      "2019-07-01 15:50:49,608 - CRDS - INFO -  Fetching  /Users/patrickkavanagh/crds_mirror/mappings/jwst/jwst_nircam_flat_0013.rmap   21.1 K bytes  (15 / 34 files) (53.5 K / 145.8 K bytes)\n",
      "2019-07-01 15:50:50,293 - CRDS - INFO -  Fetching  /Users/patrickkavanagh/crds_mirror/mappings/jwst/jwst_nircam_dark_0017.rmap   14.2 K bytes  (16 / 34 files) (74.6 K / 145.8 K bytes)\n",
      "2019-07-01 15:50:50,940 - CRDS - INFO -  Fetching  /Users/patrickkavanagh/crds_mirror/mappings/jwst/jwst_nircam_0119.imap    2.0 K bytes  (17 / 34 files) (88.8 K / 145.8 K bytes)\n",
      "2019-07-01 15:50:51,493 - CRDS - INFO -  Fetching  /Users/patrickkavanagh/crds_mirror/mappings/jwst/jwst_miri_wavelengthrange_0017.rmap    1.1 K bytes  (18 / 34 files) (90.8 K / 145.8 K bytes)\n",
      "2019-07-01 15:50:52,022 - CRDS - INFO -  Fetching  /Users/patrickkavanagh/crds_mirror/mappings/jwst/jwst_miri_specwcs_0024.rmap    2.7 K bytes  (19 / 34 files) (91.9 K / 145.8 K bytes)\n",
      "2019-07-01 15:50:52,550 - CRDS - INFO -  Fetching  /Users/patrickkavanagh/crds_mirror/mappings/jwst/jwst_miri_saturation_0011.rmap      961 bytes  (20 / 34 files) (94.7 K / 145.8 K bytes)\n",
      "2019-07-01 15:50:53,085 - CRDS - INFO -  Fetching  /Users/patrickkavanagh/crds_mirror/mappings/jwst/jwst_miri_regions_0022.rmap    2.4 K bytes  (21 / 34 files) (95.6 K / 145.8 K bytes)\n",
      "2019-07-01 15:50:53,612 - CRDS - INFO -  Fetching  /Users/patrickkavanagh/crds_mirror/mappings/jwst/jwst_miri_readnoise_0012.rmap    5.6 K bytes  (22 / 34 files) (98.0 K / 145.8 K bytes)\n",
      "2019-07-01 15:50:54,143 - CRDS - INFO -  Fetching  /Users/patrickkavanagh/crds_mirror/mappings/jwst/jwst_miri_psfmask_0003.rmap    1.3 K bytes  (23 / 34 files) (103.6 K / 145.8 K bytes)\n",
      "2019-07-01 15:50:54,701 - CRDS - INFO -  Fetching  /Users/patrickkavanagh/crds_mirror/mappings/jwst/jwst_miri_photom_0020.rmap    2.7 K bytes  (24 / 34 files) (104.8 K / 145.8 K bytes)\n",
      "2019-07-01 15:50:55,321 - CRDS - INFO -  Fetching  /Users/patrickkavanagh/crds_mirror/mappings/jwst/jwst_miri_mask_0014.rmap    1.1 K bytes  (25 / 34 files) (107.5 K / 145.8 K bytes)\n",
      "2019-07-01 15:50:55,853 - CRDS - INFO -  Fetching  /Users/patrickkavanagh/crds_mirror/mappings/jwst/jwst_miri_linearity_0013.rmap    1.9 K bytes  (26 / 34 files) (108.6 K / 145.8 K bytes)\n",
      "2019-07-01 15:50:56,405 - CRDS - INFO -  Fetching  /Users/patrickkavanagh/crds_mirror/mappings/jwst/jwst_miri_fringe_0014.rmap    2.1 K bytes  (27 / 34 files) (110.5 K / 145.8 K bytes)\n",
      "2019-07-01 15:50:56,929 - CRDS - INFO -  Fetching  /Users/patrickkavanagh/crds_mirror/mappings/jwst/jwst_miri_flat_0038.rmap   22.9 K bytes  (28 / 34 files) (112.6 K / 145.8 K bytes)\n",
      "2019-07-01 15:50:57,587 - CRDS - INFO -  Fetching  /Users/patrickkavanagh/crds_mirror/mappings/jwst/jwst_miri_filteroffset_0018.rmap    1.1 K bytes  (29 / 34 files) (135.5 K / 145.8 K bytes)\n",
      "2019-07-01 15:50:58,115 - CRDS - INFO -  Fetching  /Users/patrickkavanagh/crds_mirror/mappings/jwst/jwst_miri_distortion_0029.rmap    2.3 K bytes  (30 / 34 files) (136.7 K / 145.8 K bytes)\n",
      "2019-07-01 15:50:58,650 - CRDS - INFO -  Fetching  /Users/patrickkavanagh/crds_mirror/mappings/jwst/jwst_miri_dark_0019.rmap    3.5 K bytes  (31 / 34 files) (138.9 K / 145.8 K bytes)\n",
      "2019-07-01 15:50:59,194 - CRDS - INFO -  Fetching  /Users/patrickkavanagh/crds_mirror/mappings/jwst/jwst_miri_area_0011.rmap      755 bytes  (32 / 34 files) (142.4 K / 145.8 K bytes)\n",
      "2019-07-01 15:50:59,731 - CRDS - INFO -  Fetching  /Users/patrickkavanagh/crds_mirror/mappings/jwst/jwst_miri_0175.imap    2.1 K bytes  (33 / 34 files) (143.2 K / 145.8 K bytes)\n",
      "2019-07-01 15:51:00,281 - CRDS - INFO -  Fetching  /Users/patrickkavanagh/crds_mirror/mappings/jwst/jwst_0535.pmap      573 bytes  (34 / 34 files) (145.2 K / 145.8 K bytes)\n"
     ]
    },
    {
     "name": "stderr",
     "output_type": "stream",
     "text": [
      "2019-07-01 15:51:02,853 - CRDS - INFO -  Fetching  /Users/patrickkavanagh/crds_mirror/references/jwst/miri/jwst_miri_readnoise_0057.fits    4.2 M bytes  (1 / 1 files) (0 / 4.2 M bytes)\n",
      "2019-07-01 15:51:09,548 - stpipe.Detector1Pipeline - INFO - Prefetch for DARK reference file is '/Users/patrickkavanagh/crds_mirror/references/jwst/miri/jwst_miri_dark_0058.fits'.\n",
      "2019-07-01 15:51:09,549 - stpipe.Detector1Pipeline - INFO - Prefetch for GAIN reference file is '/Users/patrickkavanagh/crds_mirror/references/jwst/miri/jwst_miri_gain_0008.fits'.\n",
      "2019-07-01 15:51:09,550 - stpipe.Detector1Pipeline - INFO - Prefetch for LINEARITY reference file is '/Users/patrickkavanagh/crds_mirror/references/jwst/miri/jwst_miri_linearity_0024.fits'.\n",
      "2019-07-01 15:51:09,551 - stpipe.Detector1Pipeline - INFO - Prefetch for MASK reference file is '/Users/patrickkavanagh/crds_mirror/references/jwst/miri/jwst_miri_mask_0023.fits'.\n",
      "2019-07-01 15:51:09,552 - stpipe.Detector1Pipeline - INFO - Prefetch for PERSAT reference file is 'N/A'.\n",
      "2019-07-01 15:51:09,553 - stpipe.Detector1Pipeline - INFO - Prefetch for READNOISE reference file is '/Users/patrickkavanagh/crds_mirror/references/jwst/miri/jwst_miri_readnoise_0057.fits'.\n",
      "2019-07-01 15:51:09,554 - stpipe.Detector1Pipeline - INFO - Prefetch for REFPIX reference file is 'N/A'.\n",
      "2019-07-01 15:51:09,554 - stpipe.Detector1Pipeline - INFO - Prefetch for RSCD reference file is '/Users/patrickkavanagh/crds_mirror/references/jwst/miri/jwst_miri_rscd_0009.fits'.\n",
      "2019-07-01 15:51:09,555 - stpipe.Detector1Pipeline - INFO - Prefetch for SATURATION reference file is '/Users/patrickkavanagh/crds_mirror/references/jwst/miri/jwst_miri_saturation_0022.fits'.\n",
      "2019-07-01 15:51:09,556 - stpipe.Detector1Pipeline - INFO - Prefetch for SUPERBIAS reference file is 'N/A'.\n",
      "2019-07-01 15:51:09,557 - stpipe.Detector1Pipeline - INFO - Prefetch for TRAPDENSITY reference file is 'N/A'.\n",
      "2019-07-01 15:51:09,558 - stpipe.Detector1Pipeline - INFO - Prefetch for TRAPPARS reference file is 'N/A'.\n",
      "2019-07-01 15:51:09,559 - stpipe.Detector1Pipeline - INFO - Starting calwebb_detector1 ...\n",
      "2019-07-01 15:51:10,060 - stpipe.Detector1Pipeline.group_scale - INFO - Step group_scale running with args (<RampModel(2, 50, 1024, 1032) from det_image_seq1_MIRIMAGE_F1130Wexp1.fits>,).\n",
      "2019-07-01 15:51:10,072 - stpipe.Detector1Pipeline.group_scale - INFO - NFRAMES={} is a power of 2; correction not needed\n",
      "2019-07-01 15:51:10,073 - stpipe.Detector1Pipeline.group_scale - INFO - Step will be skipped\n",
      "2019-07-01 15:51:10,074 - stpipe.Detector1Pipeline.group_scale - INFO - Step group_scale done\n",
      "2019-07-01 15:51:10,141 - stpipe.Detector1Pipeline.dq_init - INFO - Step dq_init running with args (<RampModel(2, 50, 1024, 1032) from det_image_seq1_MIRIMAGE_F1130Wexp1.fits>,).\n",
      "2019-07-01 15:51:10,155 - stpipe.Detector1Pipeline.dq_init - INFO - Using MASK reference file /Users/patrickkavanagh/crds_mirror/references/jwst/miri/jwst_miri_mask_0023.fits\n",
      "2019-07-01 15:51:12,615 - stpipe.Detector1Pipeline.dq_init - INFO - Step dq_init done\n",
      "2019-07-01 15:51:12,754 - stpipe.Detector1Pipeline.saturation - INFO - Step saturation running with args (<RampModel(2, 50, 1024, 1032) from det_image_seq1_MIRIMAGE_F1130Wexp1.fits>,).\n",
      "2019-07-01 15:51:12,777 - stpipe.Detector1Pipeline.saturation - INFO - Using SATURATION reference file /Users/patrickkavanagh/crds_mirror/references/jwst/miri/jwst_miri_saturation_0022.fits\n",
      "2019-07-01 15:51:15,478 - stpipe.Detector1Pipeline.saturation - INFO - Step saturation done\n",
      "2019-07-01 15:51:15,568 - stpipe.Detector1Pipeline.ipc - INFO - Step ipc running with args (<RampModel(2, 50, 1024, 1032) from det_image_seq1_MIRIMAGE_F1130Wexp1.fits>,).\n",
      "2019-07-01 15:51:15,569 - stpipe.Detector1Pipeline.ipc - INFO - Step skipped.\n",
      "2019-07-01 15:51:15,570 - stpipe.Detector1Pipeline.ipc - INFO - Step ipc done\n",
      "2019-07-01 15:51:15,627 - stpipe.Detector1Pipeline.firstframe - INFO - Step firstframe running with args (<RampModel(2, 50, 1024, 1032) from det_image_seq1_MIRIMAGE_F1130Wexp1.fits>,).\n",
      "2019-07-01 15:51:16,667 - stpipe.Detector1Pipeline.firstframe - INFO - Step firstframe done\n",
      "2019-07-01 15:51:16,815 - stpipe.Detector1Pipeline.lastframe - INFO - Step lastframe running with args (<RampModel(2, 50, 1024, 1032) from det_image_seq1_MIRIMAGE_F1130Wexp1.fits>,).\n",
      "2019-07-01 15:51:17,214 - stpipe.Detector1Pipeline.lastframe - INFO - Step lastframe done\n",
      "2019-07-01 15:51:17,337 - stpipe.Detector1Pipeline.linearity - INFO - Step linearity running with args (<RampModel(2, 50, 1024, 1032) from det_image_seq1_MIRIMAGE_F1130Wexp1.fits>,).\n",
      "2019-07-01 15:51:17,365 - stpipe.Detector1Pipeline.linearity - INFO - Using Linearity reference file /Users/patrickkavanagh/crds_mirror/references/jwst/miri/jwst_miri_linearity_0024.fits\n",
      "2019-07-01 15:51:19,902 - stpipe.Detector1Pipeline.linearity - INFO - Step linearity done\n",
      "2019-07-01 15:51:19,954 - stpipe.Detector1Pipeline.rscd - INFO - Step rscd running with args (<RampModel(2, 50, 1024, 1032) from det_image_seq1_MIRIMAGE_F1130Wexp1.fits>,).\n",
      "2019-07-01 15:51:19,973 - stpipe.Detector1Pipeline.rscd - INFO - Using RSCD reference file /Users/patrickkavanagh/crds_mirror/references/jwst/miri/jwst_miri_rscd_0009.fits\n",
      "2019-07-01 15:51:20,395 - stpipe.Detector1Pipeline.rscd - INFO -  Working on integration 2\n",
      "2019-07-01 15:51:24,096 - stpipe.Detector1Pipeline.rscd - INFO - Step rscd done\n",
      "2019-07-01 15:51:24,158 - stpipe.Detector1Pipeline.dark_current - INFO - Step dark_current running with args (<RampModel(2, 50, 1024, 1032) from det_image_seq1_MIRIMAGE_F1130Wexp1.fits>,).\n",
      "2019-07-01 15:51:24,172 - stpipe.Detector1Pipeline.dark_current - INFO - Using DARK reference file /Users/patrickkavanagh/crds_mirror/references/jwst/miri/jwst_miri_dark_0058.fits\n",
      "2019-07-01 15:51:24,427 - stpipe.Detector1Pipeline.dark_current - INFO - Science data nints=2, ngroups=50, nframes=1, groupgap=0\n",
      "2019-07-01 15:51:24,428 - stpipe.Detector1Pipeline.dark_current - INFO - Dark data nints=2, ngroups=200, nframes=1, groupgap=0\n",
      "2019-07-01 15:51:30,712 - stpipe.Detector1Pipeline.dark_current - INFO - Step dark_current done\n",
      "2019-07-01 15:51:30,797 - stpipe.Detector1Pipeline.refpix - INFO - Step refpix running with args (<RampModel(2, 50, 1024, 1032) from det_image_seq1_MIRIMAGE_F1130Wexp1.fits>,).\n",
      "2019-07-01 15:51:30,810 - stpipe.Detector1Pipeline.refpix - INFO - use_side_ref_pixels = True\n",
      "2019-07-01 15:51:30,810 - stpipe.Detector1Pipeline.refpix - INFO - odd_even_columns = True\n",
      "2019-07-01 15:51:30,811 - stpipe.Detector1Pipeline.refpix - INFO - side_smoothing_length = 11\n",
      "2019-07-01 15:51:30,811 - stpipe.Detector1Pipeline.refpix - INFO - side_gain = 1.000000\n",
      "2019-07-01 15:51:30,812 - stpipe.Detector1Pipeline.refpix - INFO - odd_even_rows = True\n",
      "2019-07-01 15:51:31,245 - stpipe.Detector1Pipeline.refpix - INFO - Subtracting initial read from each integration\n",
      "2019-07-01 15:51:33,851 - stpipe.Detector1Pipeline.refpix - INFO - Adding initial read back in\n",
      "2019-07-01 15:51:34,099 - stpipe.Detector1Pipeline.refpix - INFO - Step refpix done\n",
      "2019-07-01 15:51:34,160 - stpipe.Detector1Pipeline.jump - INFO - Step jump running with args (<RampModel(2, 50, 1024, 1032) from det_image_seq1_MIRIMAGE_F1130Wexp1.fits>,).\n",
      "2019-07-01 15:51:34,257 - stpipe.Detector1Pipeline.jump - INFO - CR rejection threshold = 4 sigma\n",
      "2019-07-01 15:51:34,261 - stpipe.Detector1Pipeline.jump - INFO - Using GAIN reference file: /Users/patrickkavanagh/crds_mirror/references/jwst/miri/jwst_miri_gain_0008.fits\n",
      "2019-07-01 15:51:34,292 - stpipe.Detector1Pipeline.jump - INFO - Using READNOISE reference file: /Users/patrickkavanagh/crds_mirror/references/jwst/miri/jwst_miri_readnoise_0057.fits\n",
      "2019-07-01 15:51:35,479 - stpipe.Detector1Pipeline.jump - INFO - Executing two-point difference method\n",
      "2019-07-01 15:51:37,038 - stpipe.Detector1Pipeline.jump - INFO -  working on integration 1\n",
      "2019-07-01 15:51:41,411 - stpipe.Detector1Pipeline.jump - INFO - From highest outlier Two point found 293954 pixels with at least one CR\n",
      "2019-07-01 15:51:55,993 - stpipe.Detector1Pipeline.jump - INFO -  working on integration 2\n",
      "2019-07-01 15:52:00,062 - stpipe.Detector1Pipeline.jump - INFO - From highest outlier Two point found 295082 pixels with at least one CR\n",
      "2019-07-01 15:52:14,002 - stpipe.Detector1Pipeline.jump - INFO - The execution time in seconds: 39.745648\n"
     ]
    },
    {
     "name": "stderr",
     "output_type": "stream",
     "text": [
      "2019-07-01 15:52:14,006 - stpipe.Detector1Pipeline.jump - INFO - Step jump done\n",
      "2019-07-01 15:52:14,067 - stpipe.Detector1Pipeline.ramp_fit - INFO - Step ramp_fit running with args (<RampModel(2, 50, 1024, 1032) from det_image_seq1_MIRIMAGE_F1130Wexp1.fits>,).\n",
      "2019-07-01 15:52:14,085 - stpipe.Detector1Pipeline.ramp_fit - INFO - Using READNOISE reference file: /Users/patrickkavanagh/crds_mirror/references/jwst/miri/jwst_miri_readnoise_0057.fits\n",
      "2019-07-01 15:52:14,200 - stpipe.Detector1Pipeline.ramp_fit - INFO - Using GAIN reference file: /Users/patrickkavanagh/crds_mirror/references/jwst/miri/jwst_miri_gain_0008.fits\n",
      "2019-07-01 15:52:14,216 - stpipe.Detector1Pipeline.ramp_fit - INFO - Using algorithm = ols\n",
      "2019-07-01 15:52:14,217 - stpipe.Detector1Pipeline.ramp_fit - INFO - Using weighting = optimal\n",
      "2019-07-01 15:52:14,241 - stpipe.Detector1Pipeline.ramp_fit - INFO - Number of leading groups that are flagged as DO_NOT_USE: 1\n",
      "2019-07-01 15:52:14,245 - stpipe.Detector1Pipeline.ramp_fit - INFO - MIRI dataset has all pixels in the final group flagged as DO_NOT_USE.\n",
      "2019-07-01 15:52:14,246 - stpipe.Detector1Pipeline.ramp_fit - INFO - Effective integration time per group: 2.77504\n"
     ]
    }
   ],
   "source": [
    "# user specified\n",
    "my_input_file = 'det_image_seq1_MIRIMAGE_F1130Wexp1.fits'\n",
    "my_output_dir = 'demo_output'\n",
    "\n",
    "# the output directory should be created if it doesn't exist\n",
    "if not os.path.exists(my_output_dir): \n",
    "    os.mkdir(my_output_dir)\n",
    "\n",
    "# run the pipeline\n",
    "dm = Detector1Pipeline.call(my_input_file, output_use_model=True, save_results=True, \n",
    "                            output_dir=my_output_dir, steps={'ipc': {'skip': True}})"
   ]
  },
  {
   "cell_type": "markdown",
   "metadata": {},
   "source": [
    "We can plot the before (last frame of first integration) and after images"
   ]
  },
  {
   "cell_type": "code",
   "execution_count": null,
   "metadata": {},
   "outputs": [],
   "source": [
    "# open the input image as a jwst data model\n",
    "with datamodels.open(my_input_file) as in_dm:\n",
    "\n",
    "    fig, axs = plt.subplots(1, 2, figsize=(12, 6))\n",
    "\n",
    "    axs[0].imshow(in_dm.data[0,-1,:,:], cmap='jet', interpolation='nearest', origin='lower', norm=LogNorm(vmin=1e4,vmax=2e4))\n",
    "    axs[0].annotate('Input ramp image (last frame)', xy=(0.0, 1.02), xycoords='axes fraction', fontsize=12, fontweight='bold', color='k')\n",
    "    axs[0].set_facecolor('black')\n",
    "    axs[1].imshow(out_dm.data, cmap='jet', interpolation='nearest', origin='lower', norm=LogNorm(vmin=2, vmax=100))\n",
    "    axs[1].annotate('Calibrated slope image', xy=(0.0, 1.02), xycoords='axes fraction', fontsize=12, fontweight='bold', color='k')\n",
    "    axs[1].set_facecolor('black')\n",
    "    plt.tight_layout()\n",
    "    plt.show()\n"
   ]
  },
  {
   "cell_type": "markdown",
   "metadata": {},
   "source": [
    "### Command line\n",
    "\n",
    "To achieve the same result from the command line we must first collect the pipeline configuration files and then run the `Detector1Pipeline` using the `strun` command:\n",
    "\n",
    "```bash\n",
    "mkdir demo_output\n",
    "\n",
    "collect_pipeline_cfgs cfgs/\n",
    "\n",
    "strun cfgs/calwebb_detector1.cfg det_image_seq1_MIRIMAGE_F1130Wexp1.fits --output_dir demo_output\n",
    "```\n",
    "\n",
    "This will produce the same output file in the user-defined `--output_dir`\n"
   ]
  },
  {
   "cell_type": "markdown",
   "metadata": {},
   "source": [
    "## Further examples\n",
    "\n",
    "Other notebooks with more complex examples can be found here:\n",
    "\n"
   ]
  }
 ],
 "metadata": {
  "kernelspec": {
   "display_name": "Python 3",
   "language": "python",
   "name": "python3"
  },
  "language_info": {
   "codemirror_mode": {
    "name": "ipython",
    "version": 3
   },
   "file_extension": ".py",
   "mimetype": "text/x-python",
   "name": "python",
   "nbconvert_exporter": "python",
   "pygments_lexer": "ipython3",
   "version": "3.6.8"
  }
 },
 "nbformat": 4,
 "nbformat_minor": 2
}

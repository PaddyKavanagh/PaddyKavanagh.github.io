{
 "cells": [
  {
   "cell_type": "code",
   "execution_count": 1,
   "metadata": {},
   "outputs": [],
   "source": [
    "\n"
   ]
  },
  {
   "cell_type": "code",
   "execution_count": 2,
   "metadata": {},
   "outputs": [],
   "source": [
    "my_science_files = glob.glob('IMA_science/*rate.fits')\n",
    "my_background_files = glob.glob('IMA_background/*rate.fits')"
   ]
  },
  {
   "cell_type": "code",
   "execution_count": 3,
   "metadata": {},
   "outputs": [
    {
     "name": "stdout",
     "output_type": "stream",
     "text": [
      "{\n",
      "    \"asn_type\": \"None\",\n",
      "    \"asn_rule\": \"DMSLevel2bBase\",\n",
      "    \"version_id\": null,\n",
      "    \"code_version\": \"0.13.7\",\n",
      "    \"degraded_status\": \"No known degraded exposures in association.\",\n",
      "    \"program\": \"noprogram\",\n",
      "    \"products\": [\n",
      "        {\n",
      "            \"name\": \"my_galaxy_dither1\",\n",
      "            \"members\": [\n",
      "                {\n",
      "                    \"expname\": \"IMA_science/det_image_seq2_MIRIMAGE_F1130Wexp1_rate.fits\",\n",
      "                    \"exptype\": \"science\"\n",
      "                },\n",
      "                {\n",
      "                    \"expname\": \"IMA_background/det_image_seq1_MIRIMAGE_F1130Wexp1.fits\",\n",
      "                    \"exptype\": \"background\"\n",
      "                }\n",
      "            ]\n",
      "        },\n",
      "        {\n",
      "            \"name\": \"my_galaxy_dither2\",\n",
      "            \"members\": [\n",
      "                {\n",
      "                    \"expname\": \"IMA_science/det_image_seq1_MIRIMAGE_F1130Wexp1_rate.fits\",\n",
      "                    \"exptype\": \"science\"\n",
      "                },\n",
      "                {\n",
      "                    \"expname\": \"IMA_background/det_image_seq1_MIRIMAGE_F1130Wexp1.fits\",\n",
      "                    \"exptype\": \"background\"\n",
      "                }\n",
      "            ]\n",
      "        }\n",
      "    ]\n",
      "}\n"
     ]
    }
   ],
   "source": [
    "import glob\n",
    "from jwst.associations.lib.member import Member\n",
    "from jwst.associations.asn_from_list import asn_from_list\n",
    "from jwst.associations.lib.rules_level2_base import DMSLevel2bBase\n",
    "\n",
    "my_science_files = glob.glob('IMA_science/*rate.fits')\n",
    "my_background_files = glob.glob('IMA_background/*rate.fits')\n",
    "\n",
    "asn = asn_from_list(my_science_files, rule=DMSLevel2bBase)\n",
    "asn.data['products'] = None\n",
    "\n",
    "for n, sci in enumerate(my_science_files):\n",
    "    \n",
    "    asn.new_product('my_galaxy_dither{}'.format(str(n+1)))\n",
    "    sci_member = Member({'expname': sci, 'exptype': 'science'})    \n",
    "    new_members = asn.current_product['members']\n",
    "    new_members.append(sci_member)\n",
    "    \n",
    "    for bkg in my_background_files:\n",
    "        bkg_member = Member({'expname': bkg, 'exptype': 'background'})\n",
    "        new_members.append(bkg_member)\n",
    "\n",
    "name, ser = asn.dump() \n",
    "print(ser)\n"
   ]
  },
  {
   "cell_type": "code",
   "execution_count": null,
   "metadata": {},
   "outputs": [],
   "source": []
  }
 ],
 "metadata": {
  "kernelspec": {
   "display_name": "Python 3",
   "language": "python",
   "name": "python3"
  },
  "language_info": {
   "codemirror_mode": {
    "name": "ipython",
    "version": 3
   },
   "file_extension": ".py",
   "mimetype": "text/x-python",
   "name": "python",
   "nbconvert_exporter": "python",
   "pygments_lexer": "ipython3",
   "version": "3.6.8"
  }
 },
 "nbformat": 4,
 "nbformat_minor": 2
}
